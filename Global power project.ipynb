{
 "cells": [
  {
   "cell_type": "code",
   "execution_count": 1,
   "metadata": {},
   "outputs": [],
   "source": [
    "import numpy as np\n",
    "import pandas as pd"
   ]
  },
  {
   "cell_type": "code",
   "execution_count": 2,
   "metadata": {},
   "outputs": [
    {
     "data": {
      "text/html": [
       "<div>\n",
       "<style scoped>\n",
       "    .dataframe tbody tr th:only-of-type {\n",
       "        vertical-align: middle;\n",
       "    }\n",
       "\n",
       "    .dataframe tbody tr th {\n",
       "        vertical-align: top;\n",
       "    }\n",
       "\n",
       "    .dataframe thead th {\n",
       "        text-align: right;\n",
       "    }\n",
       "</style>\n",
       "<table border=\"1\" class=\"dataframe\">\n",
       "  <thead>\n",
       "    <tr style=\"text-align: right;\">\n",
       "      <th></th>\n",
       "      <th>country</th>\n",
       "      <th>country_long</th>\n",
       "      <th>name</th>\n",
       "      <th>gppd_idnr</th>\n",
       "      <th>capacity_mw</th>\n",
       "      <th>latitude</th>\n",
       "      <th>longitude</th>\n",
       "      <th>primary_fuel</th>\n",
       "      <th>other_fuel1</th>\n",
       "      <th>other_fuel2</th>\n",
       "      <th>...</th>\n",
       "      <th>geolocation_source</th>\n",
       "      <th>wepp_id</th>\n",
       "      <th>year_of_capacity_data</th>\n",
       "      <th>generation_gwh_2013</th>\n",
       "      <th>generation_gwh_2014</th>\n",
       "      <th>generation_gwh_2015</th>\n",
       "      <th>generation_gwh_2016</th>\n",
       "      <th>generation_gwh_2017</th>\n",
       "      <th>generation_data_source</th>\n",
       "      <th>estimated_generation_gwh</th>\n",
       "    </tr>\n",
       "  </thead>\n",
       "  <tbody>\n",
       "    <tr>\n",
       "      <th>0</th>\n",
       "      <td>IND</td>\n",
       "      <td>India</td>\n",
       "      <td>ACME Solar Tower</td>\n",
       "      <td>WRI1020239</td>\n",
       "      <td>2.5</td>\n",
       "      <td>28.1839</td>\n",
       "      <td>73.2407</td>\n",
       "      <td>Solar</td>\n",
       "      <td>NaN</td>\n",
       "      <td>NaN</td>\n",
       "      <td>...</td>\n",
       "      <td>National Renewable Energy Laboratory</td>\n",
       "      <td>NaN</td>\n",
       "      <td>NaN</td>\n",
       "      <td>NaN</td>\n",
       "      <td>NaN</td>\n",
       "      <td>NaN</td>\n",
       "      <td>NaN</td>\n",
       "      <td>NaN</td>\n",
       "      <td>NaN</td>\n",
       "      <td>NaN</td>\n",
       "    </tr>\n",
       "    <tr>\n",
       "      <th>1</th>\n",
       "      <td>IND</td>\n",
       "      <td>India</td>\n",
       "      <td>ADITYA CEMENT WORKS</td>\n",
       "      <td>WRI1019881</td>\n",
       "      <td>98.0</td>\n",
       "      <td>24.7663</td>\n",
       "      <td>74.6090</td>\n",
       "      <td>Coal</td>\n",
       "      <td>NaN</td>\n",
       "      <td>NaN</td>\n",
       "      <td>...</td>\n",
       "      <td>WRI</td>\n",
       "      <td>NaN</td>\n",
       "      <td>NaN</td>\n",
       "      <td>NaN</td>\n",
       "      <td>NaN</td>\n",
       "      <td>NaN</td>\n",
       "      <td>NaN</td>\n",
       "      <td>NaN</td>\n",
       "      <td>NaN</td>\n",
       "      <td>NaN</td>\n",
       "    </tr>\n",
       "    <tr>\n",
       "      <th>2</th>\n",
       "      <td>IND</td>\n",
       "      <td>India</td>\n",
       "      <td>AES Saurashtra Windfarms</td>\n",
       "      <td>WRI1026669</td>\n",
       "      <td>39.2</td>\n",
       "      <td>21.9038</td>\n",
       "      <td>69.3732</td>\n",
       "      <td>Wind</td>\n",
       "      <td>NaN</td>\n",
       "      <td>NaN</td>\n",
       "      <td>...</td>\n",
       "      <td>WRI</td>\n",
       "      <td>NaN</td>\n",
       "      <td>NaN</td>\n",
       "      <td>NaN</td>\n",
       "      <td>NaN</td>\n",
       "      <td>NaN</td>\n",
       "      <td>NaN</td>\n",
       "      <td>NaN</td>\n",
       "      <td>NaN</td>\n",
       "      <td>NaN</td>\n",
       "    </tr>\n",
       "    <tr>\n",
       "      <th>3</th>\n",
       "      <td>IND</td>\n",
       "      <td>India</td>\n",
       "      <td>AGARTALA GT</td>\n",
       "      <td>IND0000001</td>\n",
       "      <td>135.0</td>\n",
       "      <td>23.8712</td>\n",
       "      <td>91.3602</td>\n",
       "      <td>Gas</td>\n",
       "      <td>NaN</td>\n",
       "      <td>NaN</td>\n",
       "      <td>...</td>\n",
       "      <td>WRI</td>\n",
       "      <td>NaN</td>\n",
       "      <td>2018.0</td>\n",
       "      <td>631.777928</td>\n",
       "      <td>617.789264</td>\n",
       "      <td>843.747000</td>\n",
       "      <td>886.004428</td>\n",
       "      <td>663.774500</td>\n",
       "      <td>Central Electricity Authority</td>\n",
       "      <td>NaN</td>\n",
       "    </tr>\n",
       "    <tr>\n",
       "      <th>4</th>\n",
       "      <td>IND</td>\n",
       "      <td>India</td>\n",
       "      <td>AKALTARA TPP</td>\n",
       "      <td>IND0000002</td>\n",
       "      <td>1800.0</td>\n",
       "      <td>21.9603</td>\n",
       "      <td>82.4091</td>\n",
       "      <td>Coal</td>\n",
       "      <td>Oil</td>\n",
       "      <td>NaN</td>\n",
       "      <td>...</td>\n",
       "      <td>WRI</td>\n",
       "      <td>NaN</td>\n",
       "      <td>2018.0</td>\n",
       "      <td>1668.290000</td>\n",
       "      <td>3035.550000</td>\n",
       "      <td>5916.370000</td>\n",
       "      <td>6243.000000</td>\n",
       "      <td>5385.579736</td>\n",
       "      <td>Central Electricity Authority</td>\n",
       "      <td>NaN</td>\n",
       "    </tr>\n",
       "    <tr>\n",
       "      <th>...</th>\n",
       "      <td>...</td>\n",
       "      <td>...</td>\n",
       "      <td>...</td>\n",
       "      <td>...</td>\n",
       "      <td>...</td>\n",
       "      <td>...</td>\n",
       "      <td>...</td>\n",
       "      <td>...</td>\n",
       "      <td>...</td>\n",
       "      <td>...</td>\n",
       "      <td>...</td>\n",
       "      <td>...</td>\n",
       "      <td>...</td>\n",
       "      <td>...</td>\n",
       "      <td>...</td>\n",
       "      <td>...</td>\n",
       "      <td>...</td>\n",
       "      <td>...</td>\n",
       "      <td>...</td>\n",
       "      <td>...</td>\n",
       "      <td>...</td>\n",
       "    </tr>\n",
       "    <tr>\n",
       "      <th>903</th>\n",
       "      <td>IND</td>\n",
       "      <td>India</td>\n",
       "      <td>YERMARUS TPP</td>\n",
       "      <td>IND0000513</td>\n",
       "      <td>1600.0</td>\n",
       "      <td>16.2949</td>\n",
       "      <td>77.3568</td>\n",
       "      <td>Coal</td>\n",
       "      <td>Oil</td>\n",
       "      <td>NaN</td>\n",
       "      <td>...</td>\n",
       "      <td>WRI</td>\n",
       "      <td>NaN</td>\n",
       "      <td>2018.0</td>\n",
       "      <td>NaN</td>\n",
       "      <td>NaN</td>\n",
       "      <td>0.994875</td>\n",
       "      <td>233.596650</td>\n",
       "      <td>865.400000</td>\n",
       "      <td>Central Electricity Authority</td>\n",
       "      <td>NaN</td>\n",
       "    </tr>\n",
       "    <tr>\n",
       "      <th>904</th>\n",
       "      <td>IND</td>\n",
       "      <td>India</td>\n",
       "      <td>Yelesandra Solar Power Plant</td>\n",
       "      <td>WRI1026222</td>\n",
       "      <td>3.0</td>\n",
       "      <td>12.8932</td>\n",
       "      <td>78.1654</td>\n",
       "      <td>Solar</td>\n",
       "      <td>NaN</td>\n",
       "      <td>NaN</td>\n",
       "      <td>...</td>\n",
       "      <td>Industry About</td>\n",
       "      <td>NaN</td>\n",
       "      <td>NaN</td>\n",
       "      <td>NaN</td>\n",
       "      <td>NaN</td>\n",
       "      <td>NaN</td>\n",
       "      <td>NaN</td>\n",
       "      <td>NaN</td>\n",
       "      <td>NaN</td>\n",
       "      <td>NaN</td>\n",
       "    </tr>\n",
       "    <tr>\n",
       "      <th>905</th>\n",
       "      <td>IND</td>\n",
       "      <td>India</td>\n",
       "      <td>Yelisirur wind power project</td>\n",
       "      <td>WRI1026776</td>\n",
       "      <td>25.5</td>\n",
       "      <td>15.2758</td>\n",
       "      <td>75.5811</td>\n",
       "      <td>Wind</td>\n",
       "      <td>NaN</td>\n",
       "      <td>NaN</td>\n",
       "      <td>...</td>\n",
       "      <td>WRI</td>\n",
       "      <td>NaN</td>\n",
       "      <td>NaN</td>\n",
       "      <td>NaN</td>\n",
       "      <td>NaN</td>\n",
       "      <td>NaN</td>\n",
       "      <td>NaN</td>\n",
       "      <td>NaN</td>\n",
       "      <td>NaN</td>\n",
       "      <td>NaN</td>\n",
       "    </tr>\n",
       "    <tr>\n",
       "      <th>906</th>\n",
       "      <td>IND</td>\n",
       "      <td>India</td>\n",
       "      <td>ZAWAR MINES</td>\n",
       "      <td>WRI1019901</td>\n",
       "      <td>80.0</td>\n",
       "      <td>24.3500</td>\n",
       "      <td>73.7477</td>\n",
       "      <td>Coal</td>\n",
       "      <td>NaN</td>\n",
       "      <td>NaN</td>\n",
       "      <td>...</td>\n",
       "      <td>WRI</td>\n",
       "      <td>NaN</td>\n",
       "      <td>NaN</td>\n",
       "      <td>NaN</td>\n",
       "      <td>NaN</td>\n",
       "      <td>NaN</td>\n",
       "      <td>NaN</td>\n",
       "      <td>NaN</td>\n",
       "      <td>NaN</td>\n",
       "      <td>NaN</td>\n",
       "    </tr>\n",
       "    <tr>\n",
       "      <th>907</th>\n",
       "      <td>IND</td>\n",
       "      <td>India</td>\n",
       "      <td>iEnergy Theni Wind Farm</td>\n",
       "      <td>WRI1026761</td>\n",
       "      <td>16.5</td>\n",
       "      <td>9.9344</td>\n",
       "      <td>77.4768</td>\n",
       "      <td>Wind</td>\n",
       "      <td>NaN</td>\n",
       "      <td>NaN</td>\n",
       "      <td>...</td>\n",
       "      <td>WRI</td>\n",
       "      <td>NaN</td>\n",
       "      <td>NaN</td>\n",
       "      <td>NaN</td>\n",
       "      <td>NaN</td>\n",
       "      <td>NaN</td>\n",
       "      <td>NaN</td>\n",
       "      <td>NaN</td>\n",
       "      <td>NaN</td>\n",
       "      <td>NaN</td>\n",
       "    </tr>\n",
       "  </tbody>\n",
       "</table>\n",
       "<p>908 rows × 25 columns</p>\n",
       "</div>"
      ],
      "text/plain": [
       "    country country_long                          name   gppd_idnr  \\\n",
       "0       IND        India              ACME Solar Tower  WRI1020239   \n",
       "1       IND        India           ADITYA CEMENT WORKS  WRI1019881   \n",
       "2       IND        India      AES Saurashtra Windfarms  WRI1026669   \n",
       "3       IND        India                   AGARTALA GT  IND0000001   \n",
       "4       IND        India                  AKALTARA TPP  IND0000002   \n",
       "..      ...          ...                           ...         ...   \n",
       "903     IND        India                  YERMARUS TPP  IND0000513   \n",
       "904     IND        India  Yelesandra Solar Power Plant  WRI1026222   \n",
       "905     IND        India  Yelisirur wind power project  WRI1026776   \n",
       "906     IND        India                   ZAWAR MINES  WRI1019901   \n",
       "907     IND        India       iEnergy Theni Wind Farm  WRI1026761   \n",
       "\n",
       "     capacity_mw  latitude  longitude primary_fuel other_fuel1 other_fuel2  \\\n",
       "0            2.5   28.1839    73.2407        Solar         NaN         NaN   \n",
       "1           98.0   24.7663    74.6090         Coal         NaN         NaN   \n",
       "2           39.2   21.9038    69.3732         Wind         NaN         NaN   \n",
       "3          135.0   23.8712    91.3602          Gas         NaN         NaN   \n",
       "4         1800.0   21.9603    82.4091         Coal         Oil         NaN   \n",
       "..           ...       ...        ...          ...         ...         ...   \n",
       "903       1600.0   16.2949    77.3568         Coal         Oil         NaN   \n",
       "904          3.0   12.8932    78.1654        Solar         NaN         NaN   \n",
       "905         25.5   15.2758    75.5811         Wind         NaN         NaN   \n",
       "906         80.0   24.3500    73.7477         Coal         NaN         NaN   \n",
       "907         16.5    9.9344    77.4768         Wind         NaN         NaN   \n",
       "\n",
       "     ...                    geolocation_source  wepp_id year_of_capacity_data  \\\n",
       "0    ...  National Renewable Energy Laboratory      NaN                   NaN   \n",
       "1    ...                                   WRI      NaN                   NaN   \n",
       "2    ...                                   WRI      NaN                   NaN   \n",
       "3    ...                                   WRI      NaN                2018.0   \n",
       "4    ...                                   WRI      NaN                2018.0   \n",
       "..   ...                                   ...      ...                   ...   \n",
       "903  ...                                   WRI      NaN                2018.0   \n",
       "904  ...                        Industry About      NaN                   NaN   \n",
       "905  ...                                   WRI      NaN                   NaN   \n",
       "906  ...                                   WRI      NaN                   NaN   \n",
       "907  ...                                   WRI      NaN                   NaN   \n",
       "\n",
       "    generation_gwh_2013 generation_gwh_2014 generation_gwh_2015  \\\n",
       "0                   NaN                 NaN                 NaN   \n",
       "1                   NaN                 NaN                 NaN   \n",
       "2                   NaN                 NaN                 NaN   \n",
       "3            631.777928          617.789264          843.747000   \n",
       "4           1668.290000         3035.550000         5916.370000   \n",
       "..                  ...                 ...                 ...   \n",
       "903                 NaN                 NaN            0.994875   \n",
       "904                 NaN                 NaN                 NaN   \n",
       "905                 NaN                 NaN                 NaN   \n",
       "906                 NaN                 NaN                 NaN   \n",
       "907                 NaN                 NaN                 NaN   \n",
       "\n",
       "     generation_gwh_2016  generation_gwh_2017         generation_data_source  \\\n",
       "0                    NaN                  NaN                            NaN   \n",
       "1                    NaN                  NaN                            NaN   \n",
       "2                    NaN                  NaN                            NaN   \n",
       "3             886.004428           663.774500  Central Electricity Authority   \n",
       "4            6243.000000          5385.579736  Central Electricity Authority   \n",
       "..                   ...                  ...                            ...   \n",
       "903           233.596650           865.400000  Central Electricity Authority   \n",
       "904                  NaN                  NaN                            NaN   \n",
       "905                  NaN                  NaN                            NaN   \n",
       "906                  NaN                  NaN                            NaN   \n",
       "907                  NaN                  NaN                            NaN   \n",
       "\n",
       "     estimated_generation_gwh  \n",
       "0                         NaN  \n",
       "1                         NaN  \n",
       "2                         NaN  \n",
       "3                         NaN  \n",
       "4                         NaN  \n",
       "..                        ...  \n",
       "903                       NaN  \n",
       "904                       NaN  \n",
       "905                       NaN  \n",
       "906                       NaN  \n",
       "907                       NaN  \n",
       "\n",
       "[908 rows x 25 columns]"
      ]
     },
     "execution_count": 2,
     "metadata": {},
     "output_type": "execute_result"
    }
   ],
   "source": [
    "df=pd.read_csv(\"database_IND.csv\")\n",
    "df"
   ]
  },
  {
   "cell_type": "code",
   "execution_count": 3,
   "metadata": {},
   "outputs": [
    {
     "data": {
      "text/plain": [
       "(908, 25)"
      ]
     },
     "execution_count": 3,
     "metadata": {},
     "output_type": "execute_result"
    }
   ],
   "source": [
    "df.shape"
   ]
  },
  {
   "cell_type": "code",
   "execution_count": 4,
   "metadata": {},
   "outputs": [
    {
     "data": {
      "text/plain": [
       "country                      object\n",
       "country_long                 object\n",
       "name                         object\n",
       "gppd_idnr                    object\n",
       "capacity_mw                 float64\n",
       "latitude                    float64\n",
       "longitude                   float64\n",
       "primary_fuel                 object\n",
       "other_fuel1                  object\n",
       "other_fuel2                  object\n",
       "other_fuel3                 float64\n",
       "commissioning_year          float64\n",
       "owner                        object\n",
       "source                       object\n",
       "url                          object\n",
       "geolocation_source           object\n",
       "wepp_id                     float64\n",
       "year_of_capacity_data       float64\n",
       "generation_gwh_2013         float64\n",
       "generation_gwh_2014         float64\n",
       "generation_gwh_2015         float64\n",
       "generation_gwh_2016         float64\n",
       "generation_gwh_2017         float64\n",
       "generation_data_source       object\n",
       "estimated_generation_gwh    float64\n",
       "dtype: object"
      ]
     },
     "execution_count": 4,
     "metadata": {},
     "output_type": "execute_result"
    }
   ],
   "source": [
    "df.dtypes"
   ]
  },
  {
   "cell_type": "code",
   "execution_count": 8,
   "metadata": {},
   "outputs": [
    {
     "data": {
      "text/plain": [
       "country                       0\n",
       "country_long                  0\n",
       "name                          0\n",
       "gppd_idnr                     0\n",
       "capacity_mw                   0\n",
       "latitude                     46\n",
       "longitude                    46\n",
       "primary_fuel                  0\n",
       "other_fuel1                 709\n",
       "other_fuel2                 907\n",
       "other_fuel3                 908\n",
       "commissioning_year          380\n",
       "owner                       566\n",
       "source                        0\n",
       "url                           0\n",
       "geolocation_source           19\n",
       "wepp_id                     908\n",
       "year_of_capacity_data       388\n",
       "generation_gwh_2013         524\n",
       "generation_gwh_2014         507\n",
       "generation_gwh_2015         483\n",
       "generation_gwh_2016         471\n",
       "generation_gwh_2017         465\n",
       "generation_data_source      458\n",
       "estimated_generation_gwh    908\n",
       "dtype: int64"
      ]
     },
     "execution_count": 8,
     "metadata": {},
     "output_type": "execute_result"
    }
   ],
   "source": [
    "df.isnull().sum()"
   ]
  },
  {
   "cell_type": "code",
   "execution_count": 10,
   "metadata": {},
   "outputs": [
    {
     "data": {
      "text/plain": [
       "array(['Solar', 'Coal', 'Wind', 'Gas', 'Hydro', 'Biomass', 'Oil',\n",
       "       'Nuclear'], dtype=object)"
      ]
     },
     "execution_count": 10,
     "metadata": {},
     "output_type": "execute_result"
    }
   ],
   "source": [
    "df['primary_fuel'].unique()"
   ]
  },
  {
   "cell_type": "markdown",
   "metadata": {},
   "source": [
    "First prediction is for primary Fuel so target is primary fuel "
   ]
  },
  {
   "cell_type": "markdown",
   "metadata": {},
   "source": [
    "different dtypes are there so better to do label encoding "
   ]
  },
  {
   "cell_type": "code",
   "execution_count": 16,
   "metadata": {},
   "outputs": [
    {
     "data": {
      "text/html": [
       "<div>\n",
       "<style scoped>\n",
       "    .dataframe tbody tr th:only-of-type {\n",
       "        vertical-align: middle;\n",
       "    }\n",
       "\n",
       "    .dataframe tbody tr th {\n",
       "        vertical-align: top;\n",
       "    }\n",
       "\n",
       "    .dataframe thead th {\n",
       "        text-align: right;\n",
       "    }\n",
       "</style>\n",
       "<table border=\"1\" class=\"dataframe\">\n",
       "  <thead>\n",
       "    <tr style=\"text-align: right;\">\n",
       "      <th></th>\n",
       "      <th>country</th>\n",
       "      <th>country_long</th>\n",
       "      <th>name</th>\n",
       "      <th>gppd_idnr</th>\n",
       "      <th>capacity_mw</th>\n",
       "      <th>latitude</th>\n",
       "      <th>longitude</th>\n",
       "      <th>primary_fuel</th>\n",
       "      <th>other_fuel3</th>\n",
       "      <th>commissioning_year</th>\n",
       "      <th>wepp_id</th>\n",
       "      <th>year_of_capacity_data</th>\n",
       "      <th>generation_gwh_2013</th>\n",
       "      <th>generation_gwh_2014</th>\n",
       "      <th>generation_gwh_2015</th>\n",
       "      <th>generation_gwh_2016</th>\n",
       "      <th>generation_gwh_2017</th>\n",
       "      <th>estimated_generation_gwh</th>\n",
       "    </tr>\n",
       "  </thead>\n",
       "  <tbody>\n",
       "    <tr>\n",
       "      <th>count</th>\n",
       "      <td>908.0</td>\n",
       "      <td>908.0</td>\n",
       "      <td>908.00000</td>\n",
       "      <td>908.00000</td>\n",
       "      <td>908.000000</td>\n",
       "      <td>862.000000</td>\n",
       "      <td>862.000000</td>\n",
       "      <td>908.000000</td>\n",
       "      <td>0.0</td>\n",
       "      <td>528.000000</td>\n",
       "      <td>0.0</td>\n",
       "      <td>520.0</td>\n",
       "      <td>384.000000</td>\n",
       "      <td>401.000000</td>\n",
       "      <td>425.000000</td>\n",
       "      <td>437.000000</td>\n",
       "      <td>443.000000</td>\n",
       "      <td>0.0</td>\n",
       "    </tr>\n",
       "    <tr>\n",
       "      <th>mean</th>\n",
       "      <td>0.0</td>\n",
       "      <td>0.0</td>\n",
       "      <td>453.50000</td>\n",
       "      <td>453.50000</td>\n",
       "      <td>321.046378</td>\n",
       "      <td>21.196189</td>\n",
       "      <td>77.447848</td>\n",
       "      <td>3.205947</td>\n",
       "      <td>NaN</td>\n",
       "      <td>1996.876894</td>\n",
       "      <td>NaN</td>\n",
       "      <td>2018.0</td>\n",
       "      <td>2304.059202</td>\n",
       "      <td>2420.393316</td>\n",
       "      <td>2414.072373</td>\n",
       "      <td>2453.936292</td>\n",
       "      <td>2531.754458</td>\n",
       "      <td>NaN</td>\n",
       "    </tr>\n",
       "    <tr>\n",
       "      <th>std</th>\n",
       "      <td>0.0</td>\n",
       "      <td>0.0</td>\n",
       "      <td>262.26132</td>\n",
       "      <td>262.26132</td>\n",
       "      <td>580.221767</td>\n",
       "      <td>6.248627</td>\n",
       "      <td>4.907260</td>\n",
       "      <td>2.281339</td>\n",
       "      <td>NaN</td>\n",
       "      <td>17.047817</td>\n",
       "      <td>NaN</td>\n",
       "      <td>0.0</td>\n",
       "      <td>3794.767492</td>\n",
       "      <td>4013.558173</td>\n",
       "      <td>4183.203199</td>\n",
       "      <td>4152.038216</td>\n",
       "      <td>4187.236364</td>\n",
       "      <td>NaN</td>\n",
       "    </tr>\n",
       "    <tr>\n",
       "      <th>min</th>\n",
       "      <td>0.0</td>\n",
       "      <td>0.0</td>\n",
       "      <td>0.00000</td>\n",
       "      <td>0.00000</td>\n",
       "      <td>0.000000</td>\n",
       "      <td>8.168900</td>\n",
       "      <td>68.644700</td>\n",
       "      <td>0.000000</td>\n",
       "      <td>NaN</td>\n",
       "      <td>1927.000000</td>\n",
       "      <td>NaN</td>\n",
       "      <td>2018.0</td>\n",
       "      <td>0.000000</td>\n",
       "      <td>0.000000</td>\n",
       "      <td>0.000000</td>\n",
       "      <td>0.000000</td>\n",
       "      <td>0.000000</td>\n",
       "      <td>NaN</td>\n",
       "    </tr>\n",
       "    <tr>\n",
       "      <th>25%</th>\n",
       "      <td>0.0</td>\n",
       "      <td>0.0</td>\n",
       "      <td>226.75000</td>\n",
       "      <td>226.75000</td>\n",
       "      <td>16.837500</td>\n",
       "      <td>16.771575</td>\n",
       "      <td>74.258975</td>\n",
       "      <td>1.000000</td>\n",
       "      <td>NaN</td>\n",
       "      <td>1988.000000</td>\n",
       "      <td>NaN</td>\n",
       "      <td>2018.0</td>\n",
       "      <td>244.458088</td>\n",
       "      <td>223.650436</td>\n",
       "      <td>174.174750</td>\n",
       "      <td>187.193669</td>\n",
       "      <td>177.643170</td>\n",
       "      <td>NaN</td>\n",
       "    </tr>\n",
       "    <tr>\n",
       "      <th>50%</th>\n",
       "      <td>0.0</td>\n",
       "      <td>0.0</td>\n",
       "      <td>453.50000</td>\n",
       "      <td>453.50000</td>\n",
       "      <td>60.000000</td>\n",
       "      <td>21.778300</td>\n",
       "      <td>76.719250</td>\n",
       "      <td>3.000000</td>\n",
       "      <td>NaN</td>\n",
       "      <td>2000.000000</td>\n",
       "      <td>NaN</td>\n",
       "      <td>2018.0</td>\n",
       "      <td>797.063475</td>\n",
       "      <td>805.760000</td>\n",
       "      <td>701.027250</td>\n",
       "      <td>716.728350</td>\n",
       "      <td>807.601700</td>\n",
       "      <td>NaN</td>\n",
       "    </tr>\n",
       "    <tr>\n",
       "      <th>75%</th>\n",
       "      <td>0.0</td>\n",
       "      <td>0.0</td>\n",
       "      <td>680.25000</td>\n",
       "      <td>680.25000</td>\n",
       "      <td>388.125000</td>\n",
       "      <td>25.516375</td>\n",
       "      <td>79.441475</td>\n",
       "      <td>6.000000</td>\n",
       "      <td>NaN</td>\n",
       "      <td>2011.250000</td>\n",
       "      <td>NaN</td>\n",
       "      <td>2018.0</td>\n",
       "      <td>2795.021500</td>\n",
       "      <td>3034.575000</td>\n",
       "      <td>3080.000000</td>\n",
       "      <td>3263.483000</td>\n",
       "      <td>3258.785000</td>\n",
       "      <td>NaN</td>\n",
       "    </tr>\n",
       "    <tr>\n",
       "      <th>max</th>\n",
       "      <td>0.0</td>\n",
       "      <td>0.0</td>\n",
       "      <td>907.00000</td>\n",
       "      <td>907.00000</td>\n",
       "      <td>4760.000000</td>\n",
       "      <td>34.649000</td>\n",
       "      <td>95.408000</td>\n",
       "      <td>7.000000</td>\n",
       "      <td>NaN</td>\n",
       "      <td>2018.000000</td>\n",
       "      <td>NaN</td>\n",
       "      <td>2018.0</td>\n",
       "      <td>27586.200000</td>\n",
       "      <td>28127.000000</td>\n",
       "      <td>30539.000000</td>\n",
       "      <td>30015.000000</td>\n",
       "      <td>35116.000000</td>\n",
       "      <td>NaN</td>\n",
       "    </tr>\n",
       "  </tbody>\n",
       "</table>\n",
       "</div>"
      ],
      "text/plain": [
       "       country  country_long       name  gppd_idnr  capacity_mw    latitude  \\\n",
       "count    908.0         908.0  908.00000  908.00000   908.000000  862.000000   \n",
       "mean       0.0           0.0  453.50000  453.50000   321.046378   21.196189   \n",
       "std        0.0           0.0  262.26132  262.26132   580.221767    6.248627   \n",
       "min        0.0           0.0    0.00000    0.00000     0.000000    8.168900   \n",
       "25%        0.0           0.0  226.75000  226.75000    16.837500   16.771575   \n",
       "50%        0.0           0.0  453.50000  453.50000    60.000000   21.778300   \n",
       "75%        0.0           0.0  680.25000  680.25000   388.125000   25.516375   \n",
       "max        0.0           0.0  907.00000  907.00000  4760.000000   34.649000   \n",
       "\n",
       "        longitude  primary_fuel  other_fuel3  commissioning_year  wepp_id  \\\n",
       "count  862.000000    908.000000          0.0          528.000000      0.0   \n",
       "mean    77.447848      3.205947          NaN         1996.876894      NaN   \n",
       "std      4.907260      2.281339          NaN           17.047817      NaN   \n",
       "min     68.644700      0.000000          NaN         1927.000000      NaN   \n",
       "25%     74.258975      1.000000          NaN         1988.000000      NaN   \n",
       "50%     76.719250      3.000000          NaN         2000.000000      NaN   \n",
       "75%     79.441475      6.000000          NaN         2011.250000      NaN   \n",
       "max     95.408000      7.000000          NaN         2018.000000      NaN   \n",
       "\n",
       "       year_of_capacity_data  generation_gwh_2013  generation_gwh_2014  \\\n",
       "count                  520.0           384.000000           401.000000   \n",
       "mean                  2018.0          2304.059202          2420.393316   \n",
       "std                      0.0          3794.767492          4013.558173   \n",
       "min                   2018.0             0.000000             0.000000   \n",
       "25%                   2018.0           244.458088           223.650436   \n",
       "50%                   2018.0           797.063475           805.760000   \n",
       "75%                   2018.0          2795.021500          3034.575000   \n",
       "max                   2018.0         27586.200000         28127.000000   \n",
       "\n",
       "       generation_gwh_2015  generation_gwh_2016  generation_gwh_2017  \\\n",
       "count           425.000000           437.000000           443.000000   \n",
       "mean           2414.072373          2453.936292          2531.754458   \n",
       "std            4183.203199          4152.038216          4187.236364   \n",
       "min               0.000000             0.000000             0.000000   \n",
       "25%             174.174750           187.193669           177.643170   \n",
       "50%             701.027250           716.728350           807.601700   \n",
       "75%            3080.000000          3263.483000          3258.785000   \n",
       "max           30539.000000         30015.000000         35116.000000   \n",
       "\n",
       "       estimated_generation_gwh  \n",
       "count                       0.0  \n",
       "mean                        NaN  \n",
       "std                         NaN  \n",
       "min                         NaN  \n",
       "25%                         NaN  \n",
       "50%                         NaN  \n",
       "75%                         NaN  \n",
       "max                         NaN  "
      ]
     },
     "execution_count": 16,
     "metadata": {},
     "output_type": "execute_result"
    }
   ],
   "source": [
    "df.describe()"
   ]
  },
  {
   "cell_type": "code",
   "execution_count": 17,
   "metadata": {},
   "outputs": [
    {
     "name": "stdout",
     "output_type": "stream",
     "text": [
      "     country  country_long   name  gppd_idnr  capacity_mw  latitude  \\\n",
      "0        0.0           0.0    0.0      658.0          2.5   28.1839   \n",
      "1        0.0           0.0    1.0      520.0         98.0   24.7663   \n",
      "2        0.0           0.0    2.0      854.0         39.2   21.9038   \n",
      "3        0.0           0.0    3.0        0.0        135.0   23.8712   \n",
      "4        0.0           0.0    4.0        1.0       1800.0   21.9603   \n",
      "..       ...           ...    ...        ...          ...       ...   \n",
      "903      0.0           0.0  903.0      494.0       1600.0   16.2949   \n",
      "904      0.0           0.0  904.0      823.0          3.0   12.8932   \n",
      "905      0.0           0.0  905.0      892.0         25.5   15.2758   \n",
      "906      0.0           0.0  906.0      540.0         80.0   24.3500   \n",
      "907      0.0           0.0  907.0      877.0         16.5    9.9344   \n",
      "\n",
      "     longitude  primary_fuel other_fuel1 other_fuel2  ...  \\\n",
      "0      73.2407           6.0         NaN         NaN  ...   \n",
      "1      74.6090           1.0         NaN         NaN  ...   \n",
      "2      69.3732           7.0         NaN         NaN  ...   \n",
      "3      91.3602           2.0         NaN         NaN  ...   \n",
      "4      82.4091           1.0         Oil         NaN  ...   \n",
      "..         ...           ...         ...         ...  ...   \n",
      "903    77.3568           1.0         Oil         NaN  ...   \n",
      "904    78.1654           6.0         NaN         NaN  ...   \n",
      "905    75.5811           7.0         NaN         NaN  ...   \n",
      "906    73.7477           1.0         NaN         NaN  ...   \n",
      "907    77.4768           7.0         NaN         NaN  ...   \n",
      "\n",
      "                       geolocation_source  wepp_id year_of_capacity_data  \\\n",
      "0    National Renewable Energy Laboratory      NaN                   NaN   \n",
      "1                                     WRI      NaN                   NaN   \n",
      "2                                     WRI      NaN                   NaN   \n",
      "3                                     WRI      NaN                2018.0   \n",
      "4                                     WRI      NaN                2018.0   \n",
      "..                                    ...      ...                   ...   \n",
      "903                                   WRI      NaN                2018.0   \n",
      "904                        Industry About      NaN                   NaN   \n",
      "905                                   WRI      NaN                   NaN   \n",
      "906                                   WRI      NaN                   NaN   \n",
      "907                                   WRI      NaN                   NaN   \n",
      "\n",
      "    generation_gwh_2013 generation_gwh_2014 generation_gwh_2015  \\\n",
      "0                   NaN                 NaN                 NaN   \n",
      "1                   NaN                 NaN                 NaN   \n",
      "2                   NaN                 NaN                 NaN   \n",
      "3            631.777928          617.789264          843.747000   \n",
      "4           1668.290000         3035.550000         5916.370000   \n",
      "..                  ...                 ...                 ...   \n",
      "903                 NaN                 NaN            0.994875   \n",
      "904                 NaN                 NaN                 NaN   \n",
      "905                 NaN                 NaN                 NaN   \n",
      "906                 NaN                 NaN                 NaN   \n",
      "907                 NaN                 NaN                 NaN   \n",
      "\n",
      "     generation_gwh_2016  generation_gwh_2017         generation_data_source  \\\n",
      "0                    NaN                  NaN                            NaN   \n",
      "1                    NaN                  NaN                            NaN   \n",
      "2                    NaN                  NaN                            NaN   \n",
      "3             886.004428           663.774500  Central Electricity Authority   \n",
      "4            6243.000000          5385.579736  Central Electricity Authority   \n",
      "..                   ...                  ...                            ...   \n",
      "903           233.596650           865.400000  Central Electricity Authority   \n",
      "904                  NaN                  NaN                            NaN   \n",
      "905                  NaN                  NaN                            NaN   \n",
      "906                  NaN                  NaN                            NaN   \n",
      "907                  NaN                  NaN                            NaN   \n",
      "\n",
      "     estimated_generation_gwh  \n",
      "0                         NaN  \n",
      "1                         NaN  \n",
      "2                         NaN  \n",
      "3                         NaN  \n",
      "4                         NaN  \n",
      "..                        ...  \n",
      "903                       NaN  \n",
      "904                       NaN  \n",
      "905                       NaN  \n",
      "906                       NaN  \n",
      "907                       NaN  \n",
      "\n",
      "[908 rows x 25 columns]\n"
     ]
    }
   ],
   "source": [
    "df['latitude'].fillna(int(df['latitude'].mean()), inplace=True)\n",
    "print(df)"
   ]
  },
  {
   "cell_type": "code",
   "execution_count": 19,
   "metadata": {},
   "outputs": [
    {
     "data": {
      "text/plain": [
       "country                       0\n",
       "country_long                  0\n",
       "name                          0\n",
       "gppd_idnr                     0\n",
       "capacity_mw                   0\n",
       "latitude                      0\n",
       "longitude                    46\n",
       "primary_fuel                  0\n",
       "other_fuel1                 709\n",
       "other_fuel2                 907\n",
       "other_fuel3                 908\n",
       "commissioning_year          380\n",
       "owner                       566\n",
       "source                        0\n",
       "url                           0\n",
       "geolocation_source           19\n",
       "wepp_id                     908\n",
       "year_of_capacity_data       388\n",
       "generation_gwh_2013         524\n",
       "generation_gwh_2014         507\n",
       "generation_gwh_2015         483\n",
       "generation_gwh_2016         471\n",
       "generation_gwh_2017         465\n",
       "generation_data_source      458\n",
       "estimated_generation_gwh    908\n",
       "dtype: int64"
      ]
     },
     "execution_count": 19,
     "metadata": {},
     "output_type": "execute_result"
    }
   ],
   "source": [
    "df.isnull().sum()"
   ]
  },
  {
   "cell_type": "code",
   "execution_count": 24,
   "metadata": {},
   "outputs": [
    {
     "data": {
      "text/plain": [
       "country                       0\n",
       "country_long                  0\n",
       "name                          0\n",
       "gppd_idnr                     0\n",
       "capacity_mw                   0\n",
       "latitude                      0\n",
       "longitude                     0\n",
       "primary_fuel                  0\n",
       "other_fuel1                 709\n",
       "other_fuel2                 907\n",
       "other_fuel3                 908\n",
       "commissioning_year          380\n",
       "owner                       566\n",
       "source                        0\n",
       "url                           0\n",
       "geolocation_source           19\n",
       "wepp_id                     908\n",
       "year_of_capacity_data       388\n",
       "generation_gwh_2013         524\n",
       "generation_gwh_2014         507\n",
       "generation_gwh_2015         483\n",
       "generation_gwh_2016         471\n",
       "generation_gwh_2017         465\n",
       "generation_data_source      458\n",
       "estimated_generation_gwh    908\n",
       "dtype: int64"
      ]
     },
     "execution_count": 24,
     "metadata": {},
     "output_type": "execute_result"
    }
   ],
   "source": [
    "df['longitude'].fillna(int(df['longitude'].mean()), inplace=True)\n",
    "df.isnull().sum()"
   ]
  },
  {
   "cell_type": "code",
   "execution_count": 25,
   "metadata": {},
   "outputs": [
    {
     "data": {
      "text/plain": [
       "country                       0\n",
       "country_long                  0\n",
       "name                          0\n",
       "gppd_idnr                     0\n",
       "capacity_mw                   0\n",
       "latitude                      0\n",
       "longitude                     0\n",
       "primary_fuel                  0\n",
       "other_fuel1                 709\n",
       "other_fuel2                 907\n",
       "other_fuel3                 908\n",
       "commissioning_year            0\n",
       "owner                       566\n",
       "source                        0\n",
       "url                           0\n",
       "geolocation_source           19\n",
       "wepp_id                     908\n",
       "year_of_capacity_data       388\n",
       "generation_gwh_2013         524\n",
       "generation_gwh_2014         507\n",
       "generation_gwh_2015         483\n",
       "generation_gwh_2016         471\n",
       "generation_gwh_2017         465\n",
       "generation_data_source      458\n",
       "estimated_generation_gwh    908\n",
       "dtype: int64"
      ]
     },
     "execution_count": 25,
     "metadata": {},
     "output_type": "execute_result"
    }
   ],
   "source": [
    "df['commissioning_year'].fillna(int(df['commissioning_year'].mean()), inplace=True)\n",
    "df.isnull().sum()"
   ]
  },
  {
   "cell_type": "code",
   "execution_count": null,
   "metadata": {},
   "outputs": [],
   "source": [
    "we can drop few columns as this is related to primary fuel we can drop the columns \n",
    "owner as the owner type doesnt determine the fuel type \n",
    "other_fuel1,other_fuel2,other_fuel3 these fuels dont determine teh primary as primary fuel only will determin back teh other fuel                  "
   ]
  },
  {
   "cell_type": "code",
   "execution_count": 26,
   "metadata": {},
   "outputs": [],
   "source": [
    "df.drop(['owner'], axis = 1, inplace = True)"
   ]
  },
  {
   "cell_type": "code",
   "execution_count": 28,
   "metadata": {},
   "outputs": [],
   "source": [
    "df.drop(['other_fuel1'], axis = 1, inplace = True)"
   ]
  },
  {
   "cell_type": "code",
   "execution_count": 31,
   "metadata": {},
   "outputs": [],
   "source": [
    "df.drop(['other_fuel2'], axis = 1, inplace = True)"
   ]
  },
  {
   "cell_type": "code",
   "execution_count": 32,
   "metadata": {},
   "outputs": [],
   "source": [
    "df.drop(['other_fuel3'], axis = 1, inplace = True)"
   ]
  },
  {
   "cell_type": "code",
   "execution_count": 34,
   "metadata": {},
   "outputs": [
    {
     "data": {
      "text/plain": [
       "country                       0\n",
       "country_long                  0\n",
       "name                          0\n",
       "gppd_idnr                     0\n",
       "capacity_mw                   0\n",
       "latitude                      0\n",
       "longitude                     0\n",
       "primary_fuel                  0\n",
       "commissioning_year            0\n",
       "source                        0\n",
       "url                           0\n",
       "geolocation_source           19\n",
       "wepp_id                     908\n",
       "year_of_capacity_data       388\n",
       "generation_gwh_2013         524\n",
       "generation_gwh_2014         507\n",
       "generation_gwh_2015         483\n",
       "generation_gwh_2016         471\n",
       "generation_gwh_2017         465\n",
       "generation_data_source      458\n",
       "estimated_generation_gwh    908\n",
       "dtype: int64"
      ]
     },
     "execution_count": 34,
     "metadata": {},
     "output_type": "execute_result"
    }
   ],
   "source": [
    "df.isnull().sum()"
   ]
  },
  {
   "cell_type": "code",
   "execution_count": 40,
   "metadata": {},
   "outputs": [
    {
     "data": {
      "text/plain": [
       "array(['National Renewable Energy Laboratory', 'WRI', nan,\n",
       "       'Industry About'], dtype=object)"
      ]
     },
     "execution_count": 40,
     "metadata": {},
     "output_type": "execute_result"
    }
   ],
   "source": [
    "df['geolocation_source'].unique()"
   ]
  },
  {
   "cell_type": "markdown",
   "metadata": {},
   "source": [
    "as geo location source is not detemining the priamyr fuel we can drop this "
   ]
  },
  {
   "cell_type": "code",
   "execution_count": 41,
   "metadata": {},
   "outputs": [],
   "source": [
    "df.drop(['geolocation_source'], axis = 1, inplace = True)"
   ]
  },
  {
   "cell_type": "code",
   "execution_count": 43,
   "metadata": {},
   "outputs": [],
   "source": [
    "df.drop(['wepp_id'], axis = 1, inplace = True)         "
   ]
  },
  {
   "cell_type": "code",
   "execution_count": 44,
   "metadata": {},
   "outputs": [
    {
     "data": {
      "text/plain": [
       "country                       0\n",
       "country_long                  0\n",
       "name                          0\n",
       "gppd_idnr                     0\n",
       "capacity_mw                   0\n",
       "latitude                      0\n",
       "longitude                     0\n",
       "primary_fuel                  0\n",
       "commissioning_year            0\n",
       "source                        0\n",
       "url                           0\n",
       "year_of_capacity_data         0\n",
       "generation_gwh_2013         524\n",
       "generation_gwh_2014         507\n",
       "generation_gwh_2015         483\n",
       "generation_gwh_2016         471\n",
       "generation_gwh_2017         465\n",
       "generation_data_source      458\n",
       "estimated_generation_gwh    908\n",
       "dtype: int64"
      ]
     },
     "execution_count": 44,
     "metadata": {},
     "output_type": "execute_result"
    }
   ],
   "source": [
    "df['year_of_capacity_data'].fillna(int(df['year_of_capacity_data'].mean()), inplace=True)\n",
    "df.isnull().sum()"
   ]
  },
  {
   "cell_type": "code",
   "execution_count": 45,
   "metadata": {},
   "outputs": [
    {
     "data": {
      "text/plain": [
       "country                       0\n",
       "country_long                  0\n",
       "name                          0\n",
       "gppd_idnr                     0\n",
       "capacity_mw                   0\n",
       "latitude                      0\n",
       "longitude                     0\n",
       "primary_fuel                  0\n",
       "commissioning_year            0\n",
       "source                        0\n",
       "url                           0\n",
       "year_of_capacity_data         0\n",
       "generation_gwh_2013           0\n",
       "generation_gwh_2014         507\n",
       "generation_gwh_2015         483\n",
       "generation_gwh_2016         471\n",
       "generation_gwh_2017         465\n",
       "generation_data_source      458\n",
       "estimated_generation_gwh    908\n",
       "dtype: int64"
      ]
     },
     "execution_count": 45,
     "metadata": {},
     "output_type": "execute_result"
    }
   ],
   "source": [
    "df['generation_gwh_2013'].fillna(int(df['generation_gwh_2013'].mean()), inplace=True)\n",
    "df.isnull().sum()"
   ]
  },
  {
   "cell_type": "code",
   "execution_count": 46,
   "metadata": {},
   "outputs": [
    {
     "data": {
      "text/plain": [
       "country                       0\n",
       "country_long                  0\n",
       "name                          0\n",
       "gppd_idnr                     0\n",
       "capacity_mw                   0\n",
       "latitude                      0\n",
       "longitude                     0\n",
       "primary_fuel                  0\n",
       "commissioning_year            0\n",
       "source                        0\n",
       "url                           0\n",
       "year_of_capacity_data         0\n",
       "generation_gwh_2013           0\n",
       "generation_gwh_2014           0\n",
       "generation_gwh_2015         483\n",
       "generation_gwh_2016         471\n",
       "generation_gwh_2017         465\n",
       "generation_data_source      458\n",
       "estimated_generation_gwh    908\n",
       "dtype: int64"
      ]
     },
     "execution_count": 46,
     "metadata": {},
     "output_type": "execute_result"
    }
   ],
   "source": [
    "df['generation_gwh_2014'].fillna(int(df['generation_gwh_2013'].mean()), inplace=True)\n",
    "df.isnull().sum()"
   ]
  },
  {
   "cell_type": "code",
   "execution_count": 47,
   "metadata": {},
   "outputs": [
    {
     "data": {
      "text/plain": [
       "country                       0\n",
       "country_long                  0\n",
       "name                          0\n",
       "gppd_idnr                     0\n",
       "capacity_mw                   0\n",
       "latitude                      0\n",
       "longitude                     0\n",
       "primary_fuel                  0\n",
       "commissioning_year            0\n",
       "source                        0\n",
       "url                           0\n",
       "year_of_capacity_data         0\n",
       "generation_gwh_2013           0\n",
       "generation_gwh_2014           0\n",
       "generation_gwh_2015           0\n",
       "generation_gwh_2016         471\n",
       "generation_gwh_2017         465\n",
       "generation_data_source      458\n",
       "estimated_generation_gwh    908\n",
       "dtype: int64"
      ]
     },
     "execution_count": 47,
     "metadata": {},
     "output_type": "execute_result"
    }
   ],
   "source": [
    "df['generation_gwh_2015'].fillna(int(df['generation_gwh_2013'].mean()), inplace=True)\n",
    "df.isnull().sum()"
   ]
  },
  {
   "cell_type": "code",
   "execution_count": 48,
   "metadata": {},
   "outputs": [
    {
     "data": {
      "text/plain": [
       "country                       0\n",
       "country_long                  0\n",
       "name                          0\n",
       "gppd_idnr                     0\n",
       "capacity_mw                   0\n",
       "latitude                      0\n",
       "longitude                     0\n",
       "primary_fuel                  0\n",
       "commissioning_year            0\n",
       "source                        0\n",
       "url                           0\n",
       "year_of_capacity_data         0\n",
       "generation_gwh_2013           0\n",
       "generation_gwh_2014           0\n",
       "generation_gwh_2015           0\n",
       "generation_gwh_2016           0\n",
       "generation_gwh_2017         465\n",
       "generation_data_source      458\n",
       "estimated_generation_gwh    908\n",
       "dtype: int64"
      ]
     },
     "execution_count": 48,
     "metadata": {},
     "output_type": "execute_result"
    }
   ],
   "source": [
    "df['generation_gwh_2016'].fillna(int(df['generation_gwh_2013'].mean()), inplace=True)\n",
    "df.isnull().sum()"
   ]
  },
  {
   "cell_type": "code",
   "execution_count": 49,
   "metadata": {},
   "outputs": [
    {
     "data": {
      "text/plain": [
       "country                       0\n",
       "country_long                  0\n",
       "name                          0\n",
       "gppd_idnr                     0\n",
       "capacity_mw                   0\n",
       "latitude                      0\n",
       "longitude                     0\n",
       "primary_fuel                  0\n",
       "commissioning_year            0\n",
       "source                        0\n",
       "url                           0\n",
       "year_of_capacity_data         0\n",
       "generation_gwh_2013           0\n",
       "generation_gwh_2014           0\n",
       "generation_gwh_2015           0\n",
       "generation_gwh_2016           0\n",
       "generation_gwh_2017           0\n",
       "generation_data_source      458\n",
       "estimated_generation_gwh    908\n",
       "dtype: int64"
      ]
     },
     "execution_count": 49,
     "metadata": {},
     "output_type": "execute_result"
    }
   ],
   "source": [
    "df['generation_gwh_2017'].fillna(int(df['generation_gwh_2013'].mean()), inplace=True)\n",
    "df.isnull().sum()"
   ]
  },
  {
   "cell_type": "code",
   "execution_count": 50,
   "metadata": {},
   "outputs": [
    {
     "data": {
      "text/plain": [
       "array([nan, 'Central Electricity Authority'], dtype=object)"
      ]
     },
     "execution_count": 50,
     "metadata": {},
     "output_type": "execute_result"
    }
   ],
   "source": [
    "df['generation_data_source'].unique()"
   ]
  },
  {
   "cell_type": "code",
   "execution_count": 51,
   "metadata": {},
   "outputs": [],
   "source": [
    "df['generation_data_source'] = df['generation_data_source'].fillna('Central Electricity Authority')"
   ]
  },
  {
   "cell_type": "code",
   "execution_count": 52,
   "metadata": {},
   "outputs": [
    {
     "data": {
      "text/plain": [
       "country                       0\n",
       "country_long                  0\n",
       "name                          0\n",
       "gppd_idnr                     0\n",
       "capacity_mw                   0\n",
       "latitude                      0\n",
       "longitude                     0\n",
       "primary_fuel                  0\n",
       "commissioning_year            0\n",
       "source                        0\n",
       "url                           0\n",
       "year_of_capacity_data         0\n",
       "generation_gwh_2013           0\n",
       "generation_gwh_2014           0\n",
       "generation_gwh_2015           0\n",
       "generation_gwh_2016           0\n",
       "generation_gwh_2017           0\n",
       "generation_data_source        0\n",
       "estimated_generation_gwh    908\n",
       "dtype: int64"
      ]
     },
     "execution_count": 52,
     "metadata": {},
     "output_type": "execute_result"
    }
   ],
   "source": [
    "df.isnull().sum()"
   ]
  },
  {
   "cell_type": "code",
   "execution_count": 53,
   "metadata": {},
   "outputs": [
    {
     "data": {
      "text/plain": [
       "array([nan])"
      ]
     },
     "execution_count": 53,
     "metadata": {},
     "output_type": "execute_result"
    }
   ],
   "source": [
    "df['estimated_generation_gwh'].unique()"
   ]
  },
  {
   "cell_type": "markdown",
   "metadata": {},
   "source": [
    "as this column contains only nan we shall drop this column "
   ]
  },
  {
   "cell_type": "code",
   "execution_count": 54,
   "metadata": {},
   "outputs": [],
   "source": [
    "\n",
    "df.drop(['estimated_generation_gwh'], axis = 1, inplace = True)\n",
    "\n"
   ]
  },
  {
   "cell_type": "code",
   "execution_count": 55,
   "metadata": {},
   "outputs": [
    {
     "data": {
      "text/plain": [
       "country                   0\n",
       "country_long              0\n",
       "name                      0\n",
       "gppd_idnr                 0\n",
       "capacity_mw               0\n",
       "latitude                  0\n",
       "longitude                 0\n",
       "primary_fuel              0\n",
       "commissioning_year        0\n",
       "source                    0\n",
       "url                       0\n",
       "year_of_capacity_data     0\n",
       "generation_gwh_2013       0\n",
       "generation_gwh_2014       0\n",
       "generation_gwh_2015       0\n",
       "generation_gwh_2016       0\n",
       "generation_gwh_2017       0\n",
       "generation_data_source    0\n",
       "dtype: int64"
      ]
     },
     "execution_count": 55,
     "metadata": {},
     "output_type": "execute_result"
    }
   ],
   "source": [
    "df.isnull().sum()"
   ]
  },
  {
   "cell_type": "markdown",
   "metadata": {},
   "source": [
    "There are no null columns"
   ]
  },
  {
   "cell_type": "code",
   "execution_count": 56,
   "metadata": {},
   "outputs": [
    {
     "data": {
      "image/png": "[encoded data removed]",
      "text/plain": [
       "<Figure size 432x288 with 1 Axes>"
      ]
     },
     "metadata": {
      "needs_background": "light"
     },
     "output_type": "display_data"
    }
   ],
   "source": [
    "import matplotlib.pyplot as plt\n",
    "import seaborn as sns\n",
    "sns.countplot(x=\"primary_fuel\",data=df)\n",
    "plt.show()"
   ]
  },
  {
   "cell_type": "markdown",
   "metadata": {},
   "source": [
    "This is a Regression probnlem as the values are more than 2 "
   ]
  },
  {
   "cell_type": "markdown",
   "metadata": {},
   "source": [
    "# Regression Problem "
   ]
  },
  {
   "cell_type": "code",
   "execution_count": 57,
   "metadata": {},
   "outputs": [],
   "source": [
    "from sklearn import preprocessing\n",
    "label_encoder = preprocessing.LabelEncoder()\n",
    "df1=df.apply(label_encoder.fit_transform)"
   ]
  },
  {
   "cell_type": "code",
   "execution_count": 58,
   "metadata": {},
   "outputs": [
    {
     "data": {
      "text/html": [
       "<div>\n",
       "<style scoped>\n",
       "    .dataframe tbody tr th:only-of-type {\n",
       "        vertical-align: middle;\n",
       "    }\n",
       "\n",
       "    .dataframe tbody tr th {\n",
       "        vertical-align: top;\n",
       "    }\n",
       "\n",
       "    .dataframe thead th {\n",
       "        text-align: right;\n",
       "    }\n",
       "</style>\n",
       "<table border=\"1\" class=\"dataframe\">\n",
       "  <thead>\n",
       "    <tr style=\"text-align: right;\">\n",
       "      <th></th>\n",
       "      <th>country</th>\n",
       "      <th>country_long</th>\n",
       "      <th>name</th>\n",
       "      <th>gppd_idnr</th>\n",
       "      <th>capacity_mw</th>\n",
       "      <th>latitude</th>\n",
       "      <th>longitude</th>\n",
       "      <th>primary_fuel</th>\n",
       "      <th>commissioning_year</th>\n",
       "      <th>source</th>\n",
       "      <th>url</th>\n",
       "      <th>year_of_capacity_data</th>\n",
       "      <th>generation_gwh_2013</th>\n",
       "      <th>generation_gwh_2014</th>\n",
       "      <th>generation_gwh_2015</th>\n",
       "      <th>generation_gwh_2016</th>\n",
       "      <th>generation_gwh_2017</th>\n",
       "      <th>generation_data_source</th>\n",
       "    </tr>\n",
       "  </thead>\n",
       "  <tbody>\n",
       "    <tr>\n",
       "      <th>0</th>\n",
       "      <td>0</td>\n",
       "      <td>0</td>\n",
       "      <td>0</td>\n",
       "      <td>658</td>\n",
       "      <td>9</td>\n",
       "      <td>731</td>\n",
       "      <td>143</td>\n",
       "      <td>6</td>\n",
       "      <td>65</td>\n",
       "      <td>109</td>\n",
       "      <td>128</td>\n",
       "      <td>0</td>\n",
       "      <td>252</td>\n",
       "      <td>250</td>\n",
       "      <td>262</td>\n",
       "      <td>268</td>\n",
       "      <td>261</td>\n",
       "      <td>0</td>\n",
       "    </tr>\n",
       "    <tr>\n",
       "      <th>1</th>\n",
       "      <td>0</td>\n",
       "      <td>0</td>\n",
       "      <td>1</td>\n",
       "      <td>520</td>\n",
       "      <td>180</td>\n",
       "      <td>594</td>\n",
       "      <td>234</td>\n",
       "      <td>1</td>\n",
       "      <td>50</td>\n",
       "      <td>174</td>\n",
       "      <td>173</td>\n",
       "      <td>0</td>\n",
       "      <td>252</td>\n",
       "      <td>250</td>\n",
       "      <td>262</td>\n",
       "      <td>268</td>\n",
       "      <td>261</td>\n",
       "      <td>0</td>\n",
       "    </tr>\n",
       "    <tr>\n",
       "      <th>2</th>\n",
       "      <td>0</td>\n",
       "      <td>0</td>\n",
       "      <td>2</td>\n",
       "      <td>854</td>\n",
       "      <td>122</td>\n",
       "      <td>421</td>\n",
       "      <td>8</td>\n",
       "      <td>7</td>\n",
       "      <td>50</td>\n",
       "      <td>21</td>\n",
       "      <td>205</td>\n",
       "      <td>0</td>\n",
       "      <td>252</td>\n",
       "      <td>250</td>\n",
       "      <td>262</td>\n",
       "      <td>268</td>\n",
       "      <td>261</td>\n",
       "      <td>0</td>\n",
       "    </tr>\n",
       "    <tr>\n",
       "      <th>3</th>\n",
       "      <td>0</td>\n",
       "      <td>0</td>\n",
       "      <td>3</td>\n",
       "      <td>0</td>\n",
       "      <td>204</td>\n",
       "      <td>547</td>\n",
       "      <td>808</td>\n",
       "      <td>2</td>\n",
       "      <td>58</td>\n",
       "      <td>22</td>\n",
       "      <td>58</td>\n",
       "      <td>0</td>\n",
       "      <td>158</td>\n",
       "      <td>157</td>\n",
       "      <td>198</td>\n",
       "      <td>199</td>\n",
       "      <td>178</td>\n",
       "      <td>0</td>\n",
       "    </tr>\n",
       "    <tr>\n",
       "      <th>4</th>\n",
       "      <td>0</td>\n",
       "      <td>0</td>\n",
       "      <td>4</td>\n",
       "      <td>1</td>\n",
       "      <td>345</td>\n",
       "      <td>424</td>\n",
       "      <td>704</td>\n",
       "      <td>1</td>\n",
       "      <td>69</td>\n",
       "      <td>22</td>\n",
       "      <td>58</td>\n",
       "      <td>0</td>\n",
       "      <td>228</td>\n",
       "      <td>275</td>\n",
       "      <td>351</td>\n",
       "      <td>362</td>\n",
       "      <td>341</td>\n",
       "      <td>0</td>\n",
       "    </tr>\n",
       "    <tr>\n",
       "      <th>...</th>\n",
       "      <td>...</td>\n",
       "      <td>...</td>\n",
       "      <td>...</td>\n",
       "      <td>...</td>\n",
       "      <td>...</td>\n",
       "      <td>...</td>\n",
       "      <td>...</td>\n",
       "      <td>...</td>\n",
       "      <td>...</td>\n",
       "      <td>...</td>\n",
       "      <td>...</td>\n",
       "      <td>...</td>\n",
       "      <td>...</td>\n",
       "      <td>...</td>\n",
       "      <td>...</td>\n",
       "      <td>...</td>\n",
       "      <td>...</td>\n",
       "      <td>...</td>\n",
       "    </tr>\n",
       "    <tr>\n",
       "      <th>903</th>\n",
       "      <td>0</td>\n",
       "      <td>0</td>\n",
       "      <td>903</td>\n",
       "      <td>494</td>\n",
       "      <td>340</td>\n",
       "      <td>177</td>\n",
       "      <td>482</td>\n",
       "      <td>1</td>\n",
       "      <td>70</td>\n",
       "      <td>22</td>\n",
       "      <td>58</td>\n",
       "      <td>0</td>\n",
       "      <td>252</td>\n",
       "      <td>250</td>\n",
       "      <td>3</td>\n",
       "      <td>99</td>\n",
       "      <td>195</td>\n",
       "      <td>0</td>\n",
       "    </tr>\n",
       "    <tr>\n",
       "      <th>904</th>\n",
       "      <td>0</td>\n",
       "      <td>0</td>\n",
       "      <td>904</td>\n",
       "      <td>823</td>\n",
       "      <td>10</td>\n",
       "      <td>104</td>\n",
       "      <td>554</td>\n",
       "      <td>6</td>\n",
       "      <td>50</td>\n",
       "      <td>77</td>\n",
       "      <td>22</td>\n",
       "      <td>0</td>\n",
       "      <td>252</td>\n",
       "      <td>250</td>\n",
       "      <td>262</td>\n",
       "      <td>268</td>\n",
       "      <td>261</td>\n",
       "      <td>0</td>\n",
       "    </tr>\n",
       "    <tr>\n",
       "      <th>905</th>\n",
       "      <td>0</td>\n",
       "      <td>0</td>\n",
       "      <td>905</td>\n",
       "      <td>892</td>\n",
       "      <td>81</td>\n",
       "      <td>152</td>\n",
       "      <td>312</td>\n",
       "      <td>7</td>\n",
       "      <td>50</td>\n",
       "      <td>21</td>\n",
       "      <td>260</td>\n",
       "      <td>0</td>\n",
       "      <td>252</td>\n",
       "      <td>250</td>\n",
       "      <td>262</td>\n",
       "      <td>268</td>\n",
       "      <td>261</td>\n",
       "      <td>0</td>\n",
       "    </tr>\n",
       "    <tr>\n",
       "      <th>906</th>\n",
       "      <td>0</td>\n",
       "      <td>0</td>\n",
       "      <td>906</td>\n",
       "      <td>540</td>\n",
       "      <td>169</td>\n",
       "      <td>572</td>\n",
       "      <td>167</td>\n",
       "      <td>1</td>\n",
       "      <td>50</td>\n",
       "      <td>59</td>\n",
       "      <td>82</td>\n",
       "      <td>0</td>\n",
       "      <td>252</td>\n",
       "      <td>250</td>\n",
       "      <td>262</td>\n",
       "      <td>268</td>\n",
       "      <td>261</td>\n",
       "      <td>0</td>\n",
       "    </tr>\n",
       "    <tr>\n",
       "      <th>907</th>\n",
       "      <td>0</td>\n",
       "      <td>0</td>\n",
       "      <td>907</td>\n",
       "      <td>877</td>\n",
       "      <td>56</td>\n",
       "      <td>32</td>\n",
       "      <td>496</td>\n",
       "      <td>7</td>\n",
       "      <td>50</td>\n",
       "      <td>21</td>\n",
       "      <td>245</td>\n",
       "      <td>0</td>\n",
       "      <td>252</td>\n",
       "      <td>250</td>\n",
       "      <td>262</td>\n",
       "      <td>268</td>\n",
       "      <td>261</td>\n",
       "      <td>0</td>\n",
       "    </tr>\n",
       "  </tbody>\n",
       "</table>\n",
       "<p>908 rows × 18 columns</p>\n",
       "</div>"
      ],
      "text/plain": [
       "     country  country_long  name  gppd_idnr  capacity_mw  latitude  longitude  \\\n",
       "0          0             0     0        658            9       731        143   \n",
       "1          0             0     1        520          180       594        234   \n",
       "2          0             0     2        854          122       421          8   \n",
       "3          0             0     3          0          204       547        808   \n",
       "4          0             0     4          1          345       424        704   \n",
       "..       ...           ...   ...        ...          ...       ...        ...   \n",
       "903        0             0   903        494          340       177        482   \n",
       "904        0             0   904        823           10       104        554   \n",
       "905        0             0   905        892           81       152        312   \n",
       "906        0             0   906        540          169       572        167   \n",
       "907        0             0   907        877           56        32        496   \n",
       "\n",
       "     primary_fuel  commissioning_year  source  url  year_of_capacity_data  \\\n",
       "0               6                  65     109  128                      0   \n",
       "1               1                  50     174  173                      0   \n",
       "2               7                  50      21  205                      0   \n",
       "3               2                  58      22   58                      0   \n",
       "4               1                  69      22   58                      0   \n",
       "..            ...                 ...     ...  ...                    ...   \n",
       "903             1                  70      22   58                      0   \n",
       "904             6                  50      77   22                      0   \n",
       "905             7                  50      21  260                      0   \n",
       "906             1                  50      59   82                      0   \n",
       "907             7                  50      21  245                      0   \n",
       "\n",
       "     generation_gwh_2013  generation_gwh_2014  generation_gwh_2015  \\\n",
       "0                    252                  250                  262   \n",
       "1                    252                  250                  262   \n",
       "2                    252                  250                  262   \n",
       "3                    158                  157                  198   \n",
       "4                    228                  275                  351   \n",
       "..                   ...                  ...                  ...   \n",
       "903                  252                  250                    3   \n",
       "904                  252                  250                  262   \n",
       "905                  252                  250                  262   \n",
       "906                  252                  250                  262   \n",
       "907                  252                  250                  262   \n",
       "\n",
       "     generation_gwh_2016  generation_gwh_2017  generation_data_source  \n",
       "0                    268                  261                       0  \n",
       "1                    268                  261                       0  \n",
       "2                    268                  261                       0  \n",
       "3                    199                  178                       0  \n",
       "4                    362                  341                       0  \n",
       "..                   ...                  ...                     ...  \n",
       "903                   99                  195                       0  \n",
       "904                  268                  261                       0  \n",
       "905                  268                  261                       0  \n",
       "906                  268                  261                       0  \n",
       "907                  268                  261                       0  \n",
       "\n",
       "[908 rows x 18 columns]"
      ]
     },
     "execution_count": 58,
     "metadata": {},
     "output_type": "execute_result"
    }
   ],
   "source": [
    "df1"
   ]
  },
  {
   "cell_type": "code",
   "execution_count": 80,
   "metadata": {},
   "outputs": [
    {
     "data": {
      "text/plain": [
       "country                   int64\n",
       "country_long              int64\n",
       "name                      int64\n",
       "gppd_idnr                 int64\n",
       "capacity_mw               int64\n",
       "latitude                  int64\n",
       "longitude                 int64\n",
       "primary_fuel              int64\n",
       "commissioning_year        int64\n",
       "source                    int32\n",
       "url                       int32\n",
       "year_of_capacity_data     int64\n",
       "generation_gwh_2013       int64\n",
       "generation_gwh_2014       int64\n",
       "generation_gwh_2015       int64\n",
       "generation_gwh_2016       int64\n",
       "generation_gwh_2017       int64\n",
       "generation_data_source    int32\n",
       "dtype: object"
      ]
     },
     "execution_count": 80,
     "metadata": {},
     "output_type": "execute_result"
    }
   ],
   "source": [
    "df1.dtypes"
   ]
  },
  {
   "cell_type": "code",
   "execution_count": 81,
   "metadata": {},
   "outputs": [
    {
     "data": {
      "image/png": "[encoded data removed]",
      "text/plain": [
       "<Figure size 432x288 with 1 Axes>"
      ]
     },
     "metadata": {
      "needs_background": "light"
     },
     "output_type": "display_data"
    }
   ],
   "source": [
    "\n",
    "sns.countplot(x=\"primary_fuel\",hue=\"country\",data=df1)\n",
    "plt.show()"
   ]
  },
  {
   "cell_type": "markdown",
   "metadata": {},
   "source": [
    "as country is unique we shall drop this column "
   ]
  },
  {
   "cell_type": "code",
   "execution_count": 82,
   "metadata": {},
   "outputs": [],
   "source": [
    "\n",
    "df1.drop(['country'], axis = 1, inplace = True)\n"
   ]
  },
  {
   "cell_type": "code",
   "execution_count": 83,
   "metadata": {},
   "outputs": [],
   "source": [
    "\n",
    "import seaborn as sns\n",
    "import warnings\n",
    "\n",
    "warnings.filterwarnings('ignore')"
   ]
  },
  {
   "cell_type": "code",
   "execution_count": 84,
   "metadata": {},
   "outputs": [
    {
     "data": {
      "text/plain": [
       "<AxesSubplot:xlabel='country_long', ylabel='Density'>"
      ]
     },
     "execution_count": 84,
     "metadata": {},
     "output_type": "execute_result"
    },
    {
     "data": {
      "image/png": "[encoded data removed]",
      "text/plain": [
       "<Figure size 432x288 with 1 Axes>"
      ]
     },
     "metadata": {
      "needs_background": "light"
     },
     "output_type": "display_data"
    }
   ],
   "source": [
    "sns.distplot(df1['country_long'])"
   ]
  },
  {
   "cell_type": "code",
   "execution_count": 85,
   "metadata": {},
   "outputs": [
    {
     "data": {
      "text/plain": [
       "<AxesSubplot:xlabel='name', ylabel='Density'>"
      ]
     },
     "execution_count": 85,
     "metadata": {},
     "output_type": "execute_result"
    },
    {
     "data": {
      "image/png": "[encoded data removed]",
      "text/plain": [
       "<Figure size 432x288 with 1 Axes>"
      ]
     },
     "metadata": {
      "needs_background": "light"
     },
     "output_type": "display_data"
    }
   ],
   "source": [
    "sns.distplot(df1['name'])"
   ]
  },
  {
   "cell_type": "code",
   "execution_count": 86,
   "metadata": {},
   "outputs": [
    {
     "data": {
      "text/plain": [
       "<AxesSubplot:xlabel='gppd_idnr', ylabel='Density'>"
      ]
     },
     "execution_count": 86,
     "metadata": {},
     "output_type": "execute_result"
    },
    {
     "data": {
      "image/png": "[encoded data removed]",
      "text/plain": [
       "<Figure size 432x288 with 1 Axes>"
      ]
     },
     "metadata": {
      "needs_background": "light"
     },
     "output_type": "display_data"
    }
   ],
   "source": [
    "sns.distplot(df1['gppd_idnr'])"
   ]
  },
  {
   "cell_type": "code",
   "execution_count": 87,
   "metadata": {},
   "outputs": [
    {
     "data": {
      "text/plain": [
       "<AxesSubplot:xlabel='capacity_mw', ylabel='Density'>"
      ]
     },
     "execution_count": 87,
     "metadata": {},
     "output_type": "execute_result"
    },
    {
     "data": {
      "image/png": "[encoded data removed]",
      "text/plain": [
       "<Figure size 432x288 with 1 Axes>"
      ]
     },
     "metadata": {
      "needs_background": "light"
     },
     "output_type": "display_data"
    }
   ],
   "source": [
    "sns.distplot(df1['capacity_mw'])"
   ]
  },
  {
   "cell_type": "code",
   "execution_count": 88,
   "metadata": {},
   "outputs": [
    {
     "data": {
      "text/plain": [
       "<AxesSubplot:xlabel='latitude', ylabel='Density'>"
      ]
     },
     "execution_count": 88,
     "metadata": {},
     "output_type": "execute_result"
    },
    {
     "data": {
      "image/png": "[encoded data removed]",
      "text/plain": [
       "<Figure size 432x288 with 1 Axes>"
      ]
     },
     "metadata": {
      "needs_background": "light"
     },
     "output_type": "display_data"
    }
   ],
   "source": [
    "sns.distplot(df1['latitude'])"
   ]
  },
  {
   "cell_type": "code",
   "execution_count": 89,
   "metadata": {},
   "outputs": [
    {
     "data": {
      "text/plain": [
       "<AxesSubplot:xlabel='longitude', ylabel='Density'>"
      ]
     },
     "execution_count": 89,
     "metadata": {},
     "output_type": "execute_result"
    },
    {
     "data": {
      "image/png": "[encoded data removed]",
      "text/plain": [
       "<Figure size 432x288 with 1 Axes>"
      ]
     },
     "metadata": {
      "needs_background": "light"
     },
     "output_type": "display_data"
    }
   ],
   "source": [
    "sns.distplot(df1['longitude'])"
   ]
  },
  {
   "cell_type": "code",
   "execution_count": 90,
   "metadata": {},
   "outputs": [
    {
     "data": {
      "text/plain": [
       "<AxesSubplot:xlabel='commissioning_year', ylabel='Density'>"
      ]
     },
     "execution_count": 90,
     "metadata": {},
     "output_type": "execute_result"
    },
    {
     "data": {
      "image/png": "[encoded data removed]",
      "text/plain": [
       "<Figure size 432x288 with 1 Axes>"
      ]
     },
     "metadata": {
      "needs_background": "light"
     },
     "output_type": "display_data"
    }
   ],
   "source": [
    "sns.distplot(df1['commissioning_year'])"
   ]
  },
  {
   "cell_type": "markdown",
   "metadata": {},
   "source": [
    " as source, column has only one data and url has no impoact we con drop that as well"
   ]
  },
  {
   "cell_type": "code",
   "execution_count": 91,
   "metadata": {},
   "outputs": [
    {
     "data": {
      "text/plain": [
       "<AxesSubplot:xlabel='year_of_capacity_data', ylabel='Density'>"
      ]
     },
     "execution_count": 91,
     "metadata": {},
     "output_type": "execute_result"
    },
    {
     "data": {
      "image/png": "[encoded data removed]",
      "text/plain": [
       "<Figure size 432x288 with 1 Axes>"
      ]
     },
     "metadata": {
      "needs_background": "light"
     },
     "output_type": "display_data"
    }
   ],
   "source": [
    "sns.distplot(df1['year_of_capacity_data'])"
   ]
  },
  {
   "cell_type": "code",
   "execution_count": 92,
   "metadata": {},
   "outputs": [
    {
     "data": {
      "text/plain": [
       "<AxesSubplot:xlabel='generation_gwh_2013', ylabel='Density'>"
      ]
     },
     "execution_count": 92,
     "metadata": {},
     "output_type": "execute_result"
    },
    {
     "data": {
      "image/png": "[encoded data removed]",
      "text/plain": [
       "<Figure size 432x288 with 1 Axes>"
      ]
     },
     "metadata": {
      "needs_background": "light"
     },
     "output_type": "display_data"
    }
   ],
   "source": [
    "sns.distplot(df1['generation_gwh_2013'])"
   ]
  },
  {
   "cell_type": "code",
   "execution_count": 93,
   "metadata": {},
   "outputs": [
    {
     "data": {
      "text/plain": [
       "<AxesSubplot:xlabel='generation_gwh_2014', ylabel='Density'>"
      ]
     },
     "execution_count": 93,
     "metadata": {},
     "output_type": "execute_result"
    },
    {
     "data": {
      "image/png": "[encoded data removed]",
      "text/plain": [
       "<Figure size 432x288 with 1 Axes>"
      ]
     },
     "metadata": {
      "needs_background": "light"
     },
     "output_type": "display_data"
    }
   ],
   "source": [
    "sns.distplot(df1['generation_gwh_2014'])"
   ]
  },
  {
   "cell_type": "code",
   "execution_count": 94,
   "metadata": {},
   "outputs": [
    {
     "data": {
      "text/plain": [
       "<AxesSubplot:xlabel='generation_gwh_2015', ylabel='Density'>"
      ]
     },
     "execution_count": 94,
     "metadata": {},
     "output_type": "execute_result"
    },
    {
     "data": {
      "image/png": "[encoded data removed]",
      "text/plain": [
       "<Figure size 432x288 with 1 Axes>"
      ]
     },
     "metadata": {
      "needs_background": "light"
     },
     "output_type": "display_data"
    }
   ],
   "source": [
    "sns.distplot(df1['generation_gwh_2015'])"
   ]
  },
  {
   "cell_type": "code",
   "execution_count": 95,
   "metadata": {},
   "outputs": [
    {
     "data": {
      "text/plain": [
       "<AxesSubplot:xlabel='generation_gwh_2016', ylabel='Density'>"
      ]
     },
     "execution_count": 95,
     "metadata": {},
     "output_type": "execute_result"
    },
    {
     "data": {
      "image/png": "[encoded data removed]",
      "text/plain": [
       "<Figure size 432x288 with 1 Axes>"
      ]
     },
     "metadata": {
      "needs_background": "light"
     },
     "output_type": "display_data"
    }
   ],
   "source": [
    "sns.distplot(df1['generation_gwh_2016'])"
   ]
  },
  {
   "cell_type": "code",
   "execution_count": 96,
   "metadata": {},
   "outputs": [
    {
     "data": {
      "text/plain": [
       "<AxesSubplot:xlabel='generation_gwh_2017', ylabel='Density'>"
      ]
     },
     "execution_count": 96,
     "metadata": {},
     "output_type": "execute_result"
    },
    {
     "data": {
      "image/png": "[encoded data removed]",
      "text/plain": [
       "<Figure size 432x288 with 1 Axes>"
      ]
     },
     "metadata": {
      "needs_background": "light"
     },
     "output_type": "display_data"
    }
   ],
   "source": [
    "sns.distplot(df1['generation_gwh_2017'])"
   ]
  },
  {
   "cell_type": "markdown",
   "metadata": {},
   "source": [
    "we can drop the  'generation_data_source'] as this alaos contains only one value"
   ]
  },
  {
   "cell_type": "code",
   "execution_count": 97,
   "metadata": {},
   "outputs": [],
   "source": [
    "\n",
    "df1.drop(['generation_data_source'], axis = 1, inplace = True)"
   ]
  },
  {
   "cell_type": "markdown",
   "metadata": {},
   "source": [
    "all the columns are not normally distributed "
   ]
  },
  {
   "cell_type": "code",
   "execution_count": 98,
   "metadata": {},
   "outputs": [
    {
     "data": {
      "image/png": "[encoded data removed]",
      "text/plain": [
       "<Figure size 648x1944 with 16 Axes>"
      ]
     },
     "metadata": {
      "needs_background": "light"
     },
     "output_type": "display_data"
    }
   ],
   "source": [
    "collist=df1.columns.values\n",
    "ncol= 9\n",
    "nrows= 9\n",
    "\n",
    "plt.figure(figsize=(ncol,3*ncol))\n",
    "for i in range(0,len(collist)):\n",
    "    plt.subplot(nrows, ncol, i+1)\n",
    "    sns.boxplot(y=df1[collist[i]], color='blue', orient='x')\n",
    "    plt.tight_layout()"
   ]
  },
  {
   "cell_type": "markdown",
   "metadata": {},
   "source": [
    "commisioning_year , source, url,generation_gwh_2013,\n",
    "\n",
    "generation_gwh_2014,generation_gwh_2015,generation_gwh_2016,generation_gwh_2017 columns have outliers "
   ]
  },
  {
   "cell_type": "markdown",
   "metadata": {},
   "source": [
    "# TO remove the skewness¶"
   ]
  },
  {
   "cell_type": "code",
   "execution_count": 99,
   "metadata": {},
   "outputs": [
    {
     "data": {
      "text/plain": [
       "country_long             0.000000\n",
       "name                     0.000000\n",
       "gppd_idnr                0.000000\n",
       "capacity_mw              0.228620\n",
       "latitude                 0.049777\n",
       "longitude                0.001072\n",
       "primary_fuel             0.471141\n",
       "commissioning_year      -1.138265\n",
       "source                   1.829145\n",
       "url                      1.512258\n",
       "year_of_capacity_data    0.000000\n",
       "generation_gwh_2013     -1.302485\n",
       "generation_gwh_2014     -1.177190\n",
       "generation_gwh_2015     -1.065379\n",
       "generation_gwh_2016     -1.037329\n",
       "generation_gwh_2017     -0.936254\n",
       "dtype: float64"
      ]
     },
     "execution_count": 99,
     "metadata": {},
     "output_type": "execute_result"
    }
   ],
   "source": [
    "df1.skew()"
   ]
  },
  {
   "cell_type": "code",
   "execution_count": 100,
   "metadata": {},
   "outputs": [
    {
     "data": {
      "text/html": [
       "<div>\n",
       "<style scoped>\n",
       "    .dataframe tbody tr th:only-of-type {\n",
       "        vertical-align: middle;\n",
       "    }\n",
       "\n",
       "    .dataframe tbody tr th {\n",
       "        vertical-align: top;\n",
       "    }\n",
       "\n",
       "    .dataframe thead th {\n",
       "        text-align: right;\n",
       "    }\n",
       "</style>\n",
       "<table border=\"1\" class=\"dataframe\">\n",
       "  <thead>\n",
       "    <tr style=\"text-align: right;\">\n",
       "      <th></th>\n",
       "      <th>country_long</th>\n",
       "      <th>name</th>\n",
       "      <th>gppd_idnr</th>\n",
       "      <th>capacity_mw</th>\n",
       "      <th>latitude</th>\n",
       "      <th>longitude</th>\n",
       "      <th>primary_fuel</th>\n",
       "      <th>commissioning_year</th>\n",
       "      <th>source</th>\n",
       "      <th>url</th>\n",
       "      <th>year_of_capacity_data</th>\n",
       "      <th>generation_gwh_2013</th>\n",
       "      <th>generation_gwh_2014</th>\n",
       "      <th>generation_gwh_2015</th>\n",
       "      <th>generation_gwh_2016</th>\n",
       "      <th>generation_gwh_2017</th>\n",
       "    </tr>\n",
       "  </thead>\n",
       "  <tbody>\n",
       "    <tr>\n",
       "      <th>country_long</th>\n",
       "      <td>NaN</td>\n",
       "      <td>NaN</td>\n",
       "      <td>NaN</td>\n",
       "      <td>NaN</td>\n",
       "      <td>NaN</td>\n",
       "      <td>NaN</td>\n",
       "      <td>NaN</td>\n",
       "      <td>NaN</td>\n",
       "      <td>NaN</td>\n",
       "      <td>NaN</td>\n",
       "      <td>NaN</td>\n",
       "      <td>NaN</td>\n",
       "      <td>NaN</td>\n",
       "      <td>NaN</td>\n",
       "      <td>NaN</td>\n",
       "      <td>NaN</td>\n",
       "    </tr>\n",
       "    <tr>\n",
       "      <th>name</th>\n",
       "      <td>NaN</td>\n",
       "      <td>1.000000</td>\n",
       "      <td>0.336792</td>\n",
       "      <td>0.012749</td>\n",
       "      <td>-0.136241</td>\n",
       "      <td>0.033977</td>\n",
       "      <td>0.038752</td>\n",
       "      <td>-0.039119</td>\n",
       "      <td>-0.013801</td>\n",
       "      <td>0.042711</td>\n",
       "      <td>NaN</td>\n",
       "      <td>0.050131</td>\n",
       "      <td>0.049476</td>\n",
       "      <td>0.035951</td>\n",
       "      <td>0.032805</td>\n",
       "      <td>0.051261</td>\n",
       "    </tr>\n",
       "    <tr>\n",
       "      <th>gppd_idnr</th>\n",
       "      <td>NaN</td>\n",
       "      <td>0.336792</td>\n",
       "      <td>1.000000</td>\n",
       "      <td>-0.566669</td>\n",
       "      <td>-0.101351</td>\n",
       "      <td>-0.399362</td>\n",
       "      <td>0.607373</td>\n",
       "      <td>0.012067</td>\n",
       "      <td>0.416575</td>\n",
       "      <td>0.596994</td>\n",
       "      <td>NaN</td>\n",
       "      <td>0.354518</td>\n",
       "      <td>0.339736</td>\n",
       "      <td>0.327724</td>\n",
       "      <td>0.313237</td>\n",
       "      <td>0.275908</td>\n",
       "    </tr>\n",
       "    <tr>\n",
       "      <th>capacity_mw</th>\n",
       "      <td>NaN</td>\n",
       "      <td>0.012749</td>\n",
       "      <td>-0.566669</td>\n",
       "      <td>1.000000</td>\n",
       "      <td>0.080681</td>\n",
       "      <td>0.352094</td>\n",
       "      <td>-0.514198</td>\n",
       "      <td>0.280870</td>\n",
       "      <td>-0.393152</td>\n",
       "      <td>-0.349308</td>\n",
       "      <td>NaN</td>\n",
       "      <td>-0.027932</td>\n",
       "      <td>-0.001338</td>\n",
       "      <td>0.003404</td>\n",
       "      <td>0.010469</td>\n",
       "      <td>0.050239</td>\n",
       "    </tr>\n",
       "    <tr>\n",
       "      <th>latitude</th>\n",
       "      <td>NaN</td>\n",
       "      <td>-0.136241</td>\n",
       "      <td>-0.101351</td>\n",
       "      <td>0.080681</td>\n",
       "      <td>1.000000</td>\n",
       "      <td>-0.046356</td>\n",
       "      <td>0.005767</td>\n",
       "      <td>0.085845</td>\n",
       "      <td>0.055135</td>\n",
       "      <td>-0.128774</td>\n",
       "      <td>NaN</td>\n",
       "      <td>0.028773</td>\n",
       "      <td>0.067042</td>\n",
       "      <td>0.063062</td>\n",
       "      <td>0.087404</td>\n",
       "      <td>0.055872</td>\n",
       "    </tr>\n",
       "    <tr>\n",
       "      <th>longitude</th>\n",
       "      <td>NaN</td>\n",
       "      <td>0.033977</td>\n",
       "      <td>-0.399362</td>\n",
       "      <td>0.352094</td>\n",
       "      <td>-0.046356</td>\n",
       "      <td>1.000000</td>\n",
       "      <td>-0.391422</td>\n",
       "      <td>0.104196</td>\n",
       "      <td>-0.269345</td>\n",
       "      <td>-0.315456</td>\n",
       "      <td>NaN</td>\n",
       "      <td>-0.122781</td>\n",
       "      <td>-0.127393</td>\n",
       "      <td>-0.139408</td>\n",
       "      <td>-0.092369</td>\n",
       "      <td>-0.092906</td>\n",
       "    </tr>\n",
       "    <tr>\n",
       "      <th>primary_fuel</th>\n",
       "      <td>NaN</td>\n",
       "      <td>0.038752</td>\n",
       "      <td>0.607373</td>\n",
       "      <td>-0.514198</td>\n",
       "      <td>0.005767</td>\n",
       "      <td>-0.391422</td>\n",
       "      <td>1.000000</td>\n",
       "      <td>-0.141909</td>\n",
       "      <td>0.053609</td>\n",
       "      <td>0.589348</td>\n",
       "      <td>NaN</td>\n",
       "      <td>0.061180</td>\n",
       "      <td>0.053353</td>\n",
       "      <td>0.043342</td>\n",
       "      <td>0.037209</td>\n",
       "      <td>0.029107</td>\n",
       "    </tr>\n",
       "    <tr>\n",
       "      <th>commissioning_year</th>\n",
       "      <td>NaN</td>\n",
       "      <td>-0.039119</td>\n",
       "      <td>0.012067</td>\n",
       "      <td>0.280870</td>\n",
       "      <td>0.085845</td>\n",
       "      <td>0.104196</td>\n",
       "      <td>-0.141909</td>\n",
       "      <td>1.000000</td>\n",
       "      <td>0.001737</td>\n",
       "      <td>-0.011080</td>\n",
       "      <td>NaN</td>\n",
       "      <td>0.142177</td>\n",
       "      <td>0.154109</td>\n",
       "      <td>0.144939</td>\n",
       "      <td>0.181432</td>\n",
       "      <td>0.153836</td>\n",
       "    </tr>\n",
       "    <tr>\n",
       "      <th>source</th>\n",
       "      <td>NaN</td>\n",
       "      <td>-0.013801</td>\n",
       "      <td>0.416575</td>\n",
       "      <td>-0.393152</td>\n",
       "      <td>0.055135</td>\n",
       "      <td>-0.269345</td>\n",
       "      <td>0.053609</td>\n",
       "      <td>0.001737</td>\n",
       "      <td>1.000000</td>\n",
       "      <td>0.160379</td>\n",
       "      <td>NaN</td>\n",
       "      <td>0.201454</td>\n",
       "      <td>0.192669</td>\n",
       "      <td>0.189891</td>\n",
       "      <td>0.196228</td>\n",
       "      <td>0.179032</td>\n",
       "    </tr>\n",
       "    <tr>\n",
       "      <th>url</th>\n",
       "      <td>NaN</td>\n",
       "      <td>0.042711</td>\n",
       "      <td>0.596994</td>\n",
       "      <td>-0.349308</td>\n",
       "      <td>-0.128774</td>\n",
       "      <td>-0.315456</td>\n",
       "      <td>0.589348</td>\n",
       "      <td>-0.011080</td>\n",
       "      <td>0.160379</td>\n",
       "      <td>1.000000</td>\n",
       "      <td>NaN</td>\n",
       "      <td>0.213298</td>\n",
       "      <td>0.203997</td>\n",
       "      <td>0.201056</td>\n",
       "      <td>0.207765</td>\n",
       "      <td>0.189558</td>\n",
       "    </tr>\n",
       "    <tr>\n",
       "      <th>year_of_capacity_data</th>\n",
       "      <td>NaN</td>\n",
       "      <td>NaN</td>\n",
       "      <td>NaN</td>\n",
       "      <td>NaN</td>\n",
       "      <td>NaN</td>\n",
       "      <td>NaN</td>\n",
       "      <td>NaN</td>\n",
       "      <td>NaN</td>\n",
       "      <td>NaN</td>\n",
       "      <td>NaN</td>\n",
       "      <td>NaN</td>\n",
       "      <td>NaN</td>\n",
       "      <td>NaN</td>\n",
       "      <td>NaN</td>\n",
       "      <td>NaN</td>\n",
       "      <td>NaN</td>\n",
       "    </tr>\n",
       "    <tr>\n",
       "      <th>generation_gwh_2013</th>\n",
       "      <td>NaN</td>\n",
       "      <td>0.050131</td>\n",
       "      <td>0.354518</td>\n",
       "      <td>-0.027932</td>\n",
       "      <td>0.028773</td>\n",
       "      <td>-0.122781</td>\n",
       "      <td>0.061180</td>\n",
       "      <td>0.142177</td>\n",
       "      <td>0.201454</td>\n",
       "      <td>0.213298</td>\n",
       "      <td>NaN</td>\n",
       "      <td>1.000000</td>\n",
       "      <td>0.910398</td>\n",
       "      <td>0.810491</td>\n",
       "      <td>0.802809</td>\n",
       "      <td>0.738918</td>\n",
       "    </tr>\n",
       "    <tr>\n",
       "      <th>generation_gwh_2014</th>\n",
       "      <td>NaN</td>\n",
       "      <td>0.049476</td>\n",
       "      <td>0.339736</td>\n",
       "      <td>-0.001338</td>\n",
       "      <td>0.067042</td>\n",
       "      <td>-0.127393</td>\n",
       "      <td>0.053353</td>\n",
       "      <td>0.154109</td>\n",
       "      <td>0.192669</td>\n",
       "      <td>0.203997</td>\n",
       "      <td>NaN</td>\n",
       "      <td>0.910398</td>\n",
       "      <td>1.000000</td>\n",
       "      <td>0.854542</td>\n",
       "      <td>0.830746</td>\n",
       "      <td>0.760641</td>\n",
       "    </tr>\n",
       "    <tr>\n",
       "      <th>generation_gwh_2015</th>\n",
       "      <td>NaN</td>\n",
       "      <td>0.035951</td>\n",
       "      <td>0.327724</td>\n",
       "      <td>0.003404</td>\n",
       "      <td>0.063062</td>\n",
       "      <td>-0.139408</td>\n",
       "      <td>0.043342</td>\n",
       "      <td>0.144939</td>\n",
       "      <td>0.189891</td>\n",
       "      <td>0.201056</td>\n",
       "      <td>NaN</td>\n",
       "      <td>0.810491</td>\n",
       "      <td>0.854542</td>\n",
       "      <td>1.000000</td>\n",
       "      <td>0.901618</td>\n",
       "      <td>0.797908</td>\n",
       "    </tr>\n",
       "    <tr>\n",
       "      <th>generation_gwh_2016</th>\n",
       "      <td>NaN</td>\n",
       "      <td>0.032805</td>\n",
       "      <td>0.313237</td>\n",
       "      <td>0.010469</td>\n",
       "      <td>0.087404</td>\n",
       "      <td>-0.092369</td>\n",
       "      <td>0.037209</td>\n",
       "      <td>0.181432</td>\n",
       "      <td>0.196228</td>\n",
       "      <td>0.207765</td>\n",
       "      <td>NaN</td>\n",
       "      <td>0.802809</td>\n",
       "      <td>0.830746</td>\n",
       "      <td>0.901618</td>\n",
       "      <td>1.000000</td>\n",
       "      <td>0.887749</td>\n",
       "    </tr>\n",
       "    <tr>\n",
       "      <th>generation_gwh_2017</th>\n",
       "      <td>NaN</td>\n",
       "      <td>0.051261</td>\n",
       "      <td>0.275908</td>\n",
       "      <td>0.050239</td>\n",
       "      <td>0.055872</td>\n",
       "      <td>-0.092906</td>\n",
       "      <td>0.029107</td>\n",
       "      <td>0.153836</td>\n",
       "      <td>0.179032</td>\n",
       "      <td>0.189558</td>\n",
       "      <td>NaN</td>\n",
       "      <td>0.738918</td>\n",
       "      <td>0.760641</td>\n",
       "      <td>0.797908</td>\n",
       "      <td>0.887749</td>\n",
       "      <td>1.000000</td>\n",
       "    </tr>\n",
       "  </tbody>\n",
       "</table>\n",
       "</div>"
      ],
      "text/plain": [
       "                       country_long      name  gppd_idnr  capacity_mw  \\\n",
       "country_long                    NaN       NaN        NaN          NaN   \n",
       "name                            NaN  1.000000   0.336792     0.012749   \n",
       "gppd_idnr                       NaN  0.336792   1.000000    -0.566669   \n",
       "capacity_mw                     NaN  0.012749  -0.566669     1.000000   \n",
       "latitude                        NaN -0.136241  -0.101351     0.080681   \n",
       "longitude                       NaN  0.033977  -0.399362     0.352094   \n",
       "primary_fuel                    NaN  0.038752   0.607373    -0.514198   \n",
       "commissioning_year              NaN -0.039119   0.012067     0.280870   \n",
       "source                          NaN -0.013801   0.416575    -0.393152   \n",
       "url                             NaN  0.042711   0.596994    -0.349308   \n",
       "year_of_capacity_data           NaN       NaN        NaN          NaN   \n",
       "generation_gwh_2013             NaN  0.050131   0.354518    -0.027932   \n",
       "generation_gwh_2014             NaN  0.049476   0.339736    -0.001338   \n",
       "generation_gwh_2015             NaN  0.035951   0.327724     0.003404   \n",
       "generation_gwh_2016             NaN  0.032805   0.313237     0.010469   \n",
       "generation_gwh_2017             NaN  0.051261   0.275908     0.050239   \n",
       "\n",
       "                       latitude  longitude  primary_fuel  commissioning_year  \\\n",
       "country_long                NaN        NaN           NaN                 NaN   \n",
       "name                  -0.136241   0.033977      0.038752           -0.039119   \n",
       "gppd_idnr             -0.101351  -0.399362      0.607373            0.012067   \n",
       "capacity_mw            0.080681   0.352094     -0.514198            0.280870   \n",
       "latitude               1.000000  -0.046356      0.005767            0.085845   \n",
       "longitude             -0.046356   1.000000     -0.391422            0.104196   \n",
       "primary_fuel           0.005767  -0.391422      1.000000           -0.141909   \n",
       "commissioning_year     0.085845   0.104196     -0.141909            1.000000   \n",
       "source                 0.055135  -0.269345      0.053609            0.001737   \n",
       "url                   -0.128774  -0.315456      0.589348           -0.011080   \n",
       "year_of_capacity_data       NaN        NaN           NaN                 NaN   \n",
       "generation_gwh_2013    0.028773  -0.122781      0.061180            0.142177   \n",
       "generation_gwh_2014    0.067042  -0.127393      0.053353            0.154109   \n",
       "generation_gwh_2015    0.063062  -0.139408      0.043342            0.144939   \n",
       "generation_gwh_2016    0.087404  -0.092369      0.037209            0.181432   \n",
       "generation_gwh_2017    0.055872  -0.092906      0.029107            0.153836   \n",
       "\n",
       "                         source       url  year_of_capacity_data  \\\n",
       "country_long                NaN       NaN                    NaN   \n",
       "name                  -0.013801  0.042711                    NaN   \n",
       "gppd_idnr              0.416575  0.596994                    NaN   \n",
       "capacity_mw           -0.393152 -0.349308                    NaN   \n",
       "latitude               0.055135 -0.128774                    NaN   \n",
       "longitude             -0.269345 -0.315456                    NaN   \n",
       "primary_fuel           0.053609  0.589348                    NaN   \n",
       "commissioning_year     0.001737 -0.011080                    NaN   \n",
       "source                 1.000000  0.160379                    NaN   \n",
       "url                    0.160379  1.000000                    NaN   \n",
       "year_of_capacity_data       NaN       NaN                    NaN   \n",
       "generation_gwh_2013    0.201454  0.213298                    NaN   \n",
       "generation_gwh_2014    0.192669  0.203997                    NaN   \n",
       "generation_gwh_2015    0.189891  0.201056                    NaN   \n",
       "generation_gwh_2016    0.196228  0.207765                    NaN   \n",
       "generation_gwh_2017    0.179032  0.189558                    NaN   \n",
       "\n",
       "                       generation_gwh_2013  generation_gwh_2014  \\\n",
       "country_long                           NaN                  NaN   \n",
       "name                              0.050131             0.049476   \n",
       "gppd_idnr                         0.354518             0.339736   \n",
       "capacity_mw                      -0.027932            -0.001338   \n",
       "latitude                          0.028773             0.067042   \n",
       "longitude                        -0.122781            -0.127393   \n",
       "primary_fuel                      0.061180             0.053353   \n",
       "commissioning_year                0.142177             0.154109   \n",
       "source                            0.201454             0.192669   \n",
       "url                               0.213298             0.203997   \n",
       "year_of_capacity_data                  NaN                  NaN   \n",
       "generation_gwh_2013               1.000000             0.910398   \n",
       "generation_gwh_2014               0.910398             1.000000   \n",
       "generation_gwh_2015               0.810491             0.854542   \n",
       "generation_gwh_2016               0.802809             0.830746   \n",
       "generation_gwh_2017               0.738918             0.760641   \n",
       "\n",
       "                       generation_gwh_2015  generation_gwh_2016  \\\n",
       "country_long                           NaN                  NaN   \n",
       "name                              0.035951             0.032805   \n",
       "gppd_idnr                         0.327724             0.313237   \n",
       "capacity_mw                       0.003404             0.010469   \n",
       "latitude                          0.063062             0.087404   \n",
       "longitude                        -0.139408            -0.092369   \n",
       "primary_fuel                      0.043342             0.037209   \n",
       "commissioning_year                0.144939             0.181432   \n",
       "source                            0.189891             0.196228   \n",
       "url                               0.201056             0.207765   \n",
       "year_of_capacity_data                  NaN                  NaN   \n",
       "generation_gwh_2013               0.810491             0.802809   \n",
       "generation_gwh_2014               0.854542             0.830746   \n",
       "generation_gwh_2015               1.000000             0.901618   \n",
       "generation_gwh_2016               0.901618             1.000000   \n",
       "generation_gwh_2017               0.797908             0.887749   \n",
       "\n",
       "                       generation_gwh_2017  \n",
       "country_long                           NaN  \n",
       "name                              0.051261  \n",
       "gppd_idnr                         0.275908  \n",
       "capacity_mw                       0.050239  \n",
       "latitude                          0.055872  \n",
       "longitude                        -0.092906  \n",
       "primary_fuel                      0.029107  \n",
       "commissioning_year                0.153836  \n",
       "source                            0.179032  \n",
       "url                               0.189558  \n",
       "year_of_capacity_data                  NaN  \n",
       "generation_gwh_2013               0.738918  \n",
       "generation_gwh_2014               0.760641  \n",
       "generation_gwh_2015               0.797908  \n",
       "generation_gwh_2016               0.887749  \n",
       "generation_gwh_2017               1.000000  "
      ]
     },
     "execution_count": 100,
     "metadata": {},
     "output_type": "execute_result"
    }
   ],
   "source": [
    "cor=df1.corr()\n",
    "cor"
   ]
  },
  {
   "cell_type": "code",
   "execution_count": 101,
   "metadata": {},
   "outputs": [
    {
     "data": {
      "text/plain": [
       "<AxesSubplot:>"
      ]
     },
     "execution_count": 101,
     "metadata": {},
     "output_type": "execute_result"
    },
    {
     "data": {
      "image/png": "[encoded data removed]",
      "text/plain": [
       "<Figure size 1440x1440 with 2 Axes>"
      ]
     },
     "metadata": {
      "needs_background": "light"
     },
     "output_type": "display_data"
    }
   ],
   "source": [
    "import matplotlib.pyplot as plt\n",
    "fig, ax_size = plt.subplots(figsize=(20,20))\n",
    "sns.heatmap(cor,annot=True,ax=ax_size,linecolor='r')"
   ]
  },
  {
   "cell_type": "markdown",
   "metadata": {},
   "source": [
    "# Removing Outliers"
   ]
  },
  {
   "cell_type": "code",
   "execution_count": 105,
   "metadata": {},
   "outputs": [],
   "source": [
    "from scipy.stats import zscore\n",
    "\n",
    "z=np.abs(zscore(df1))\n",
    "\n",
    "df2=df1[(z<3).all(axis=1)]"
   ]
  },
  {
   "cell_type": "code",
   "execution_count": 106,
   "metadata": {},
   "outputs": [
    {
     "data": {
      "text/plain": [
       "(0, 16)"
      ]
     },
     "execution_count": 106,
     "metadata": {},
     "output_type": "execute_result"
    }
   ],
   "source": [
    "df2.shape"
   ]
  },
  {
   "cell_type": "code",
   "execution_count": 107,
   "metadata": {},
   "outputs": [
    {
     "data": {
      "text/plain": [
       "(908, 16)"
      ]
     },
     "execution_count": 107,
     "metadata": {},
     "output_type": "execute_result"
    }
   ],
   "source": [
    "df1.shape"
   ]
  },
  {
   "cell_type": "markdown",
   "metadata": {},
   "source": [
    "almost complete rows are removed so cant consider teh removal of outliers "
   ]
  },
  {
   "cell_type": "markdown",
   "metadata": {},
   "source": [
    "# Variance Inflation Factor to find multi collinearity"
   ]
  },
  {
   "cell_type": "code",
   "execution_count": 108,
   "metadata": {},
   "outputs": [],
   "source": [
    "from statsmodels.stats.outliers_influence import variance_inflation_factor"
   ]
  },
  {
   "cell_type": "code",
   "execution_count": 109,
   "metadata": {},
   "outputs": [],
   "source": [
    "vif_data = pd.DataFrame()\n",
    "vif_data[\"feature\"] = df1.columns"
   ]
  },
  {
   "cell_type": "code",
   "execution_count": 110,
   "metadata": {},
   "outputs": [
    {
     "name": "stdout",
     "output_type": "stream",
     "text": [
      "                  feature        VIF\n",
      "0            country_long        NaN\n",
      "1                    name   5.366732\n",
      "2               gppd_idnr  16.546051\n",
      "3             capacity_mw   6.521872\n",
      "4                latitude   4.266555\n",
      "5               longitude   4.631029\n",
      "6            primary_fuel   6.343147\n",
      "7      commissioning_year  15.536016\n",
      "8                  source   2.876035\n",
      "9                     url   5.320592\n",
      "10  year_of_capacity_data        NaN\n",
      "11    generation_gwh_2013  49.651429\n",
      "12    generation_gwh_2014  58.061873\n",
      "13    generation_gwh_2015  47.741000\n",
      "14    generation_gwh_2016  66.187026\n",
      "15    generation_gwh_2017  32.558108\n"
     ]
    }
   ],
   "source": [
    "vif_data[\"VIF\"] = [variance_inflation_factor(df1.values, i)\n",
    "                            for i in range(len(df1.columns))]\n",
    "print(vif_data)"
   ]
  },
  {
   "cell_type": "markdown",
   "metadata": {},
   "source": [
    " generation_gwh_2013, generation_gwh_2014, generation_gwh_2015, generation_gwh_2016 and  generation_gwh_2017 has high multi collinearinty issues"
   ]
  },
  {
   "cell_type": "markdown",
   "metadata": {},
   "source": [
    "Define Dependant and independent variable"
   ]
  },
  {
   "cell_type": "code",
   "execution_count": 111,
   "metadata": {},
   "outputs": [
    {
     "data": {
      "text/html": [
       "<div>\n",
       "<style scoped>\n",
       "    .dataframe tbody tr th:only-of-type {\n",
       "        vertical-align: middle;\n",
       "    }\n",
       "\n",
       "    .dataframe tbody tr th {\n",
       "        vertical-align: top;\n",
       "    }\n",
       "\n",
       "    .dataframe thead th {\n",
       "        text-align: right;\n",
       "    }\n",
       "</style>\n",
       "<table border=\"1\" class=\"dataframe\">\n",
       "  <thead>\n",
       "    <tr style=\"text-align: right;\">\n",
       "      <th></th>\n",
       "      <th>country_long</th>\n",
       "      <th>name</th>\n",
       "      <th>gppd_idnr</th>\n",
       "      <th>capacity_mw</th>\n",
       "      <th>latitude</th>\n",
       "      <th>longitude</th>\n",
       "      <th>primary_fuel</th>\n",
       "      <th>commissioning_year</th>\n",
       "      <th>source</th>\n",
       "      <th>url</th>\n",
       "      <th>year_of_capacity_data</th>\n",
       "      <th>generation_gwh_2013</th>\n",
       "      <th>generation_gwh_2014</th>\n",
       "      <th>generation_gwh_2015</th>\n",
       "      <th>generation_gwh_2016</th>\n",
       "      <th>generation_gwh_2017</th>\n",
       "    </tr>\n",
       "  </thead>\n",
       "  <tbody>\n",
       "    <tr>\n",
       "      <th>0</th>\n",
       "      <td>0</td>\n",
       "      <td>0</td>\n",
       "      <td>658</td>\n",
       "      <td>9</td>\n",
       "      <td>731</td>\n",
       "      <td>143</td>\n",
       "      <td>6</td>\n",
       "      <td>65</td>\n",
       "      <td>109</td>\n",
       "      <td>128</td>\n",
       "      <td>0</td>\n",
       "      <td>252</td>\n",
       "      <td>250</td>\n",
       "      <td>262</td>\n",
       "      <td>268</td>\n",
       "      <td>261</td>\n",
       "    </tr>\n",
       "    <tr>\n",
       "      <th>1</th>\n",
       "      <td>0</td>\n",
       "      <td>1</td>\n",
       "      <td>520</td>\n",
       "      <td>180</td>\n",
       "      <td>594</td>\n",
       "      <td>234</td>\n",
       "      <td>1</td>\n",
       "      <td>50</td>\n",
       "      <td>174</td>\n",
       "      <td>173</td>\n",
       "      <td>0</td>\n",
       "      <td>252</td>\n",
       "      <td>250</td>\n",
       "      <td>262</td>\n",
       "      <td>268</td>\n",
       "      <td>261</td>\n",
       "    </tr>\n",
       "    <tr>\n",
       "      <th>2</th>\n",
       "      <td>0</td>\n",
       "      <td>2</td>\n",
       "      <td>854</td>\n",
       "      <td>122</td>\n",
       "      <td>421</td>\n",
       "      <td>8</td>\n",
       "      <td>7</td>\n",
       "      <td>50</td>\n",
       "      <td>21</td>\n",
       "      <td>205</td>\n",
       "      <td>0</td>\n",
       "      <td>252</td>\n",
       "      <td>250</td>\n",
       "      <td>262</td>\n",
       "      <td>268</td>\n",
       "      <td>261</td>\n",
       "    </tr>\n",
       "    <tr>\n",
       "      <th>3</th>\n",
       "      <td>0</td>\n",
       "      <td>3</td>\n",
       "      <td>0</td>\n",
       "      <td>204</td>\n",
       "      <td>547</td>\n",
       "      <td>808</td>\n",
       "      <td>2</td>\n",
       "      <td>58</td>\n",
       "      <td>22</td>\n",
       "      <td>58</td>\n",
       "      <td>0</td>\n",
       "      <td>158</td>\n",
       "      <td>157</td>\n",
       "      <td>198</td>\n",
       "      <td>199</td>\n",
       "      <td>178</td>\n",
       "    </tr>\n",
       "    <tr>\n",
       "      <th>4</th>\n",
       "      <td>0</td>\n",
       "      <td>4</td>\n",
       "      <td>1</td>\n",
       "      <td>345</td>\n",
       "      <td>424</td>\n",
       "      <td>704</td>\n",
       "      <td>1</td>\n",
       "      <td>69</td>\n",
       "      <td>22</td>\n",
       "      <td>58</td>\n",
       "      <td>0</td>\n",
       "      <td>228</td>\n",
       "      <td>275</td>\n",
       "      <td>351</td>\n",
       "      <td>362</td>\n",
       "      <td>341</td>\n",
       "    </tr>\n",
       "    <tr>\n",
       "      <th>...</th>\n",
       "      <td>...</td>\n",
       "      <td>...</td>\n",
       "      <td>...</td>\n",
       "      <td>...</td>\n",
       "      <td>...</td>\n",
       "      <td>...</td>\n",
       "      <td>...</td>\n",
       "      <td>...</td>\n",
       "      <td>...</td>\n",
       "      <td>...</td>\n",
       "      <td>...</td>\n",
       "      <td>...</td>\n",
       "      <td>...</td>\n",
       "      <td>...</td>\n",
       "      <td>...</td>\n",
       "      <td>...</td>\n",
       "    </tr>\n",
       "    <tr>\n",
       "      <th>903</th>\n",
       "      <td>0</td>\n",
       "      <td>903</td>\n",
       "      <td>494</td>\n",
       "      <td>340</td>\n",
       "      <td>177</td>\n",
       "      <td>482</td>\n",
       "      <td>1</td>\n",
       "      <td>70</td>\n",
       "      <td>22</td>\n",
       "      <td>58</td>\n",
       "      <td>0</td>\n",
       "      <td>252</td>\n",
       "      <td>250</td>\n",
       "      <td>3</td>\n",
       "      <td>99</td>\n",
       "      <td>195</td>\n",
       "    </tr>\n",
       "    <tr>\n",
       "      <th>904</th>\n",
       "      <td>0</td>\n",
       "      <td>904</td>\n",
       "      <td>823</td>\n",
       "      <td>10</td>\n",
       "      <td>104</td>\n",
       "      <td>554</td>\n",
       "      <td>6</td>\n",
       "      <td>50</td>\n",
       "      <td>77</td>\n",
       "      <td>22</td>\n",
       "      <td>0</td>\n",
       "      <td>252</td>\n",
       "      <td>250</td>\n",
       "      <td>262</td>\n",
       "      <td>268</td>\n",
       "      <td>261</td>\n",
       "    </tr>\n",
       "    <tr>\n",
       "      <th>905</th>\n",
       "      <td>0</td>\n",
       "      <td>905</td>\n",
       "      <td>892</td>\n",
       "      <td>81</td>\n",
       "      <td>152</td>\n",
       "      <td>312</td>\n",
       "      <td>7</td>\n",
       "      <td>50</td>\n",
       "      <td>21</td>\n",
       "      <td>260</td>\n",
       "      <td>0</td>\n",
       "      <td>252</td>\n",
       "      <td>250</td>\n",
       "      <td>262</td>\n",
       "      <td>268</td>\n",
       "      <td>261</td>\n",
       "    </tr>\n",
       "    <tr>\n",
       "      <th>906</th>\n",
       "      <td>0</td>\n",
       "      <td>906</td>\n",
       "      <td>540</td>\n",
       "      <td>169</td>\n",
       "      <td>572</td>\n",
       "      <td>167</td>\n",
       "      <td>1</td>\n",
       "      <td>50</td>\n",
       "      <td>59</td>\n",
       "      <td>82</td>\n",
       "      <td>0</td>\n",
       "      <td>252</td>\n",
       "      <td>250</td>\n",
       "      <td>262</td>\n",
       "      <td>268</td>\n",
       "      <td>261</td>\n",
       "    </tr>\n",
       "    <tr>\n",
       "      <th>907</th>\n",
       "      <td>0</td>\n",
       "      <td>907</td>\n",
       "      <td>877</td>\n",
       "      <td>56</td>\n",
       "      <td>32</td>\n",
       "      <td>496</td>\n",
       "      <td>7</td>\n",
       "      <td>50</td>\n",
       "      <td>21</td>\n",
       "      <td>245</td>\n",
       "      <td>0</td>\n",
       "      <td>252</td>\n",
       "      <td>250</td>\n",
       "      <td>262</td>\n",
       "      <td>268</td>\n",
       "      <td>261</td>\n",
       "    </tr>\n",
       "  </tbody>\n",
       "</table>\n",
       "<p>908 rows × 16 columns</p>\n",
       "</div>"
      ],
      "text/plain": [
       "     country_long  name  gppd_idnr  capacity_mw  latitude  longitude  \\\n",
       "0               0     0        658            9       731        143   \n",
       "1               0     1        520          180       594        234   \n",
       "2               0     2        854          122       421          8   \n",
       "3               0     3          0          204       547        808   \n",
       "4               0     4          1          345       424        704   \n",
       "..            ...   ...        ...          ...       ...        ...   \n",
       "903             0   903        494          340       177        482   \n",
       "904             0   904        823           10       104        554   \n",
       "905             0   905        892           81       152        312   \n",
       "906             0   906        540          169       572        167   \n",
       "907             0   907        877           56        32        496   \n",
       "\n",
       "     primary_fuel  commissioning_year  source  url  year_of_capacity_data  \\\n",
       "0               6                  65     109  128                      0   \n",
       "1               1                  50     174  173                      0   \n",
       "2               7                  50      21  205                      0   \n",
       "3               2                  58      22   58                      0   \n",
       "4               1                  69      22   58                      0   \n",
       "..            ...                 ...     ...  ...                    ...   \n",
       "903             1                  70      22   58                      0   \n",
       "904             6                  50      77   22                      0   \n",
       "905             7                  50      21  260                      0   \n",
       "906             1                  50      59   82                      0   \n",
       "907             7                  50      21  245                      0   \n",
       "\n",
       "     generation_gwh_2013  generation_gwh_2014  generation_gwh_2015  \\\n",
       "0                    252                  250                  262   \n",
       "1                    252                  250                  262   \n",
       "2                    252                  250                  262   \n",
       "3                    158                  157                  198   \n",
       "4                    228                  275                  351   \n",
       "..                   ...                  ...                  ...   \n",
       "903                  252                  250                    3   \n",
       "904                  252                  250                  262   \n",
       "905                  252                  250                  262   \n",
       "906                  252                  250                  262   \n",
       "907                  252                  250                  262   \n",
       "\n",
       "     generation_gwh_2016  generation_gwh_2017  \n",
       "0                    268                  261  \n",
       "1                    268                  261  \n",
       "2                    268                  261  \n",
       "3                    199                  178  \n",
       "4                    362                  341  \n",
       "..                   ...                  ...  \n",
       "903                   99                  195  \n",
       "904                  268                  261  \n",
       "905                  268                  261  \n",
       "906                  268                  261  \n",
       "907                  268                  261  \n",
       "\n",
       "[908 rows x 16 columns]"
      ]
     },
     "execution_count": 111,
     "metadata": {},
     "output_type": "execute_result"
    }
   ],
   "source": [
    "df1"
   ]
  },
  {
   "cell_type": "code",
   "execution_count": 112,
   "metadata": {},
   "outputs": [],
   "source": [
    "\n",
    "x=df1.drop('primary_fuel',axis=1)\n",
    "y=df1['primary_fuel']"
   ]
  },
  {
   "cell_type": "code",
   "execution_count": 113,
   "metadata": {},
   "outputs": [],
   "source": [
    "\n",
    "from sklearn.preprocessing import MinMaxScaler\n",
    "mms=MinMaxScaler()\n",
    "from sklearn.linear_model import LinearRegression\n",
    "lr=LinearRegression()\n",
    "from sklearn.metrics import r2_score\n",
    "from sklearn.model_selection import train_test_split"
   ]
  },
  {
   "cell_type": "code",
   "execution_count": 114,
   "metadata": {},
   "outputs": [],
   "source": [
    "x_train,x_test,y_train,y_test = train_test_split(x,y,test_size=0.20, random_state=10)"
   ]
  },
  {
   "cell_type": "code",
   "execution_count": 115,
   "metadata": {},
   "outputs": [
    {
     "data": {
      "text/plain": [
       "LinearRegression()"
      ]
     },
     "execution_count": 115,
     "metadata": {},
     "output_type": "execute_result"
    }
   ],
   "source": [
    "lr.fit(x_train,y_train)"
   ]
  },
  {
   "cell_type": "code",
   "execution_count": 116,
   "metadata": {},
   "outputs": [],
   "source": [
    "pred_test=lr.predict(x_test)"
   ]
  },
  {
   "cell_type": "code",
   "execution_count": 117,
   "metadata": {},
   "outputs": [
    {
     "name": "stdout",
     "output_type": "stream",
     "text": [
      "0.6143767821734836\n"
     ]
    }
   ],
   "source": [
    "print(r2_score(y_test,pred_test))"
   ]
  },
  {
   "cell_type": "code",
   "execution_count": 134,
   "metadata": {},
   "outputs": [
    {
     "data": {
      "text/plain": [
       "0.5782620916240404"
      ]
     },
     "execution_count": 134,
     "metadata": {},
     "output_type": "execute_result"
    }
   ],
   "source": [
    "from sklearn.model_selection import cross_val_score\n",
    "\n",
    "\n",
    "scores = cross_val_score(lr, x_train, y_train, scoring='r2', cv=5)\n",
    "scores.mean() "
   ]
  },
  {
   "cell_type": "code",
   "execution_count": 118,
   "metadata": {},
   "outputs": [],
   "source": [
    "from sklearn.model_selection import GridSearchCV\n",
    "from sklearn.model_selection import cross_val_score"
   ]
  },
  {
   "cell_type": "code",
   "execution_count": 119,
   "metadata": {},
   "outputs": [
    {
     "name": "stdout",
     "output_type": "stream",
     "text": [
      "{'alpha': 0.01, 'random_state': 0}\n"
     ]
    }
   ],
   "source": [
    "from sklearn.linear_model import Lasso\n",
    "\n",
    "parameters = {'alpha':[.0001, .001, .01, .1, 1, 10],'random_state':list(range(0,10))}\n",
    "ls = Lasso()\n",
    "clf = GridSearchCV(ls,parameters)\n",
    "clf.fit(x_train,y_train)\n",
    "\n",
    "print(clf.best_params_)"
   ]
  },
  {
   "cell_type": "code",
   "execution_count": 133,
   "metadata": {},
   "outputs": [
    {
     "data": {
      "text/plain": [
       "0.6143969567816169"
      ]
     },
     "execution_count": 133,
     "metadata": {},
     "output_type": "execute_result"
    }
   ],
   "source": [
    "\n",
    "ls = Lasso(alpha=0.011,random_state=0)\n",
    "ls.fit(x_train,y_train)\n",
    "ls.score(x_train,y_train)\n",
    "pred_ls = ls.predict(x_test)\n",
    "\n",
    "lss = r2_score(y_test,pred_ls)\n",
    "lss"
   ]
  },
  {
   "cell_type": "code",
   "execution_count": 121,
   "metadata": {},
   "outputs": [
    {
     "data": {
      "text/plain": [
       "0.5544061976676831"
      ]
     },
     "execution_count": 121,
     "metadata": {},
     "output_type": "execute_result"
    }
   ],
   "source": [
    "cv_score=cross_val_score(ls,x,y,cv=5)\n",
    "cv_mean=cv_score.mean()\n",
    "cv_mean"
   ]
  },
  {
   "cell_type": "code",
   "execution_count": 122,
   "metadata": {},
   "outputs": [
    {
     "name": "stdout",
     "output_type": "stream",
     "text": [
      "{'criterion': 'mse', 'max_features': 'auto'}\n"
     ]
    }
   ],
   "source": [
    "from sklearn.model_selection import GridSearchCV\n",
    "from sklearn.ensemble import RandomForestRegressor\n",
    "\n",
    "parameters = {'criterion':['mse', 'mae'],'max_features':[\"auto\", \"sqrt\", \"log2\"]}\n",
    "rf =RandomForestRegressor()\n",
    "clf = GridSearchCV(rf,parameters)\n",
    "clf.fit(x_train,y_train)\n",
    "\n",
    "print(clf.best_params_)"
   ]
  },
  {
   "cell_type": "code",
   "execution_count": 123,
   "metadata": {},
   "outputs": [
    {
     "name": "stdout",
     "output_type": "stream",
     "text": [
      "R2 Score: 92.1714419953131\n",
      "Cross Val Score: 91.13880434993604\n"
     ]
    }
   ],
   "source": [
    "rf= RandomForestRegressor(criterion=\"mse\", max_features =\"auto\")\n",
    "rf.fit(x_train, y_train)\n",
    "rf.score(x_train, y_train)\n",
    "pred_decision = rf.predict(x_test)\n",
    "\n",
    "rfs = r2_score(y_test,pred_decision)\n",
    "print('R2 Score:',rfs*100)\n",
    "\n",
    "rfscore = cross_val_score(rf,x,y,cv=5)\n",
    "rfc = rfscore.mean()\n",
    "print('Cross Val Score:',rfc*100)"
   ]
  },
  {
   "cell_type": "code",
   "execution_count": 124,
   "metadata": {},
   "outputs": [],
   "source": [
    "train, validation = train_test_split(df, test_size=0.50, random_state = 5)"
   ]
  },
  {
   "cell_type": "markdown",
   "metadata": {},
   "source": [
    "Best model prediction \n",
    "R2-CV score \n",
    "LinearRegression   61.43-57.82 = 3.61\n",
    "Lasso Regresssion  61.43-55.44 = 5\n",
    "RandomForestRegressor 92.17-91.13= 1.04\n",
    "\n",
    "Random forest regressor has the least value hence fitting the random forest regressor model \n",
    "\n",
    "\n",
    "\n"
   ]
  },
  {
   "cell_type": "code",
   "execution_count": 125,
   "metadata": {},
   "outputs": [
    {
     "name": "stdout",
     "output_type": "stream",
     "text": [
      "Accuracy: nan (nan)\n"
     ]
    }
   ],
   "source": [
    "from numpy import mean\n",
    "from numpy import std\n",
    "from sklearn.datasets import make_classification\n",
    "from sklearn.model_selection import KFold\n",
    "from sklearn.model_selection import cross_val_score\n",
    "from sklearn.linear_model import LogisticRegression\n",
    "# create dataset\n",
    "X, y = make_classification(n_samples=10, n_features=20, n_informative=15, n_redundant=5, random_state=1)\n",
    "# prepare the cross-validation procedure\n",
    "cv = KFold(n_splits=10, random_state=1, shuffle=True)\n",
    "# create model\n",
    "model = RandomForestRegressor()\n",
    "# evaluate model\n",
    "scores = cross_val_score(model, X, y, scoring='accuracy', cv=cv, n_jobs=-1)\n",
    "# report performance\n",
    "print('Accuracy: %.3f (%.3f)' % (mean(scores), std(scores)))"
   ]
  },
  {
   "cell_type": "code",
   "execution_count": 127,
   "metadata": {},
   "outputs": [],
   "source": [
    "import pickle\n",
    "filename = 'globalpower.pkl'\n",
    "pickle.dump(rf, open(filename, 'wb'))"
   ]
  },
  {
   "cell_type": "code",
   "execution_count": 129,
   "metadata": {},
   "outputs": [
    {
     "name": "stdout",
     "output_type": "stream",
     "text": [
      "0.921714419953131\n"
     ]
    }
   ],
   "source": [
    "loaded_model = pickle.load(open('globalpower.pkl', 'rb'))\n",
    "result = loaded_model.score(x_test, y_test)\n",
    "print(result)"
   ]
  },
  {
   "cell_type": "code",
   "execution_count": 130,
   "metadata": {},
   "outputs": [],
   "source": [
    "conclusion=pd.DataFrame([loaded_model.predict(x_test)[:],pred_decision[:]],index=[\"Predicted\",\"Orginal\"])\n"
   ]
  },
  {
   "cell_type": "code",
   "execution_count": 131,
   "metadata": {},
   "outputs": [
    {
     "data": {
      "text/html": [
       "<div>\n",
       "<style scoped>\n",
       "    .dataframe tbody tr th:only-of-type {\n",
       "        vertical-align: middle;\n",
       "    }\n",
       "\n",
       "    .dataframe tbody tr th {\n",
       "        vertical-align: top;\n",
       "    }\n",
       "\n",
       "    .dataframe thead th {\n",
       "        text-align: right;\n",
       "    }\n",
       "</style>\n",
       "<table border=\"1\" class=\"dataframe\">\n",
       "  <thead>\n",
       "    <tr style=\"text-align: right;\">\n",
       "      <th></th>\n",
       "      <th>0</th>\n",
       "      <th>1</th>\n",
       "      <th>2</th>\n",
       "      <th>3</th>\n",
       "      <th>4</th>\n",
       "      <th>5</th>\n",
       "      <th>6</th>\n",
       "      <th>7</th>\n",
       "      <th>8</th>\n",
       "      <th>9</th>\n",
       "      <th>...</th>\n",
       "      <th>172</th>\n",
       "      <th>173</th>\n",
       "      <th>174</th>\n",
       "      <th>175</th>\n",
       "      <th>176</th>\n",
       "      <th>177</th>\n",
       "      <th>178</th>\n",
       "      <th>179</th>\n",
       "      <th>180</th>\n",
       "      <th>181</th>\n",
       "    </tr>\n",
       "  </thead>\n",
       "  <tbody>\n",
       "    <tr>\n",
       "      <th>Predicted</th>\n",
       "      <td>0.51</td>\n",
       "      <td>2.97</td>\n",
       "      <td>3.0</td>\n",
       "      <td>1.0</td>\n",
       "      <td>7.0</td>\n",
       "      <td>3.45</td>\n",
       "      <td>6.44</td>\n",
       "      <td>7.0</td>\n",
       "      <td>7.0</td>\n",
       "      <td>2.86</td>\n",
       "      <td>...</td>\n",
       "      <td>7.0</td>\n",
       "      <td>1.0</td>\n",
       "      <td>1.16</td>\n",
       "      <td>7.0</td>\n",
       "      <td>1.34</td>\n",
       "      <td>6.0</td>\n",
       "      <td>6.0</td>\n",
       "      <td>3.34</td>\n",
       "      <td>7.0</td>\n",
       "      <td>6.0</td>\n",
       "    </tr>\n",
       "    <tr>\n",
       "      <th>Orginal</th>\n",
       "      <td>0.51</td>\n",
       "      <td>2.97</td>\n",
       "      <td>3.0</td>\n",
       "      <td>1.0</td>\n",
       "      <td>7.0</td>\n",
       "      <td>3.45</td>\n",
       "      <td>6.44</td>\n",
       "      <td>7.0</td>\n",
       "      <td>7.0</td>\n",
       "      <td>2.86</td>\n",
       "      <td>...</td>\n",
       "      <td>7.0</td>\n",
       "      <td>1.0</td>\n",
       "      <td>1.16</td>\n",
       "      <td>7.0</td>\n",
       "      <td>1.34</td>\n",
       "      <td>6.0</td>\n",
       "      <td>6.0</td>\n",
       "      <td>3.34</td>\n",
       "      <td>7.0</td>\n",
       "      <td>6.0</td>\n",
       "    </tr>\n",
       "  </tbody>\n",
       "</table>\n",
       "<p>2 rows × 182 columns</p>\n",
       "</div>"
      ],
      "text/plain": [
       "            0     1    2    3    4     5     6    7    8     9    ...  172  \\\n",
       "Predicted  0.51  2.97  3.0  1.0  7.0  3.45  6.44  7.0  7.0  2.86  ...  7.0   \n",
       "Orginal    0.51  2.97  3.0  1.0  7.0  3.45  6.44  7.0  7.0  2.86  ...  7.0   \n",
       "\n",
       "           173   174  175   176  177  178   179  180  181  \n",
       "Predicted  1.0  1.16  7.0  1.34  6.0  6.0  3.34  7.0  6.0  \n",
       "Orginal    1.0  1.16  7.0  1.34  6.0  6.0  3.34  7.0  6.0  \n",
       "\n",
       "[2 rows x 182 columns]"
      ]
     },
     "execution_count": 131,
     "metadata": {},
     "output_type": "execute_result"
    }
   ],
   "source": [
    "conclusion"
   ]
  },
  {
   "cell_type": "markdown",
   "metadata": {},
   "source": [
    "Predicted=Original"
   ]
  },
  {
   "cell_type": "markdown",
   "metadata": {},
   "source": [
    "# Prediction for Capacity_mw\n"
   ]
  },
  {
   "cell_type": "code",
   "execution_count": 135,
   "metadata": {},
   "outputs": [
    {
     "data": {
      "text/plain": [
       "Index(['country_long', 'name', 'gppd_idnr', 'capacity_mw', 'latitude',\n",
       "       'longitude', 'primary_fuel', 'commissioning_year', 'source', 'url',\n",
       "       'year_of_capacity_data', 'generation_gwh_2013', 'generation_gwh_2014',\n",
       "       'generation_gwh_2015', 'generation_gwh_2016', 'generation_gwh_2017'],\n",
       "      dtype='object')"
      ]
     },
     "execution_count": 135,
     "metadata": {},
     "output_type": "execute_result"
    }
   ],
   "source": [
    "df1.columns"
   ]
  },
  {
   "cell_type": "code",
   "execution_count": 136,
   "metadata": {},
   "outputs": [],
   "source": [
    "\n",
    "x1=df1.drop('capacity_mw',axis=1)\n",
    "y1=df1['capacity_mw']"
   ]
  },
  {
   "cell_type": "code",
   "execution_count": 139,
   "metadata": {},
   "outputs": [],
   "source": [
    "x1_train,x1_test,y1_train,y1_test = train_test_split(x1,y1,test_size=0.20, random_state=10)\n"
   ]
  },
  {
   "cell_type": "code",
   "execution_count": 140,
   "metadata": {},
   "outputs": [
    {
     "name": "stdout",
     "output_type": "stream",
     "text": [
      "[[0.         0.4553473  0.73812155 ... 0.65829146 0.6617284  0.63658537]\n",
      " [0.         0.10363837 0.06187845 ... 0.9321608  0.85432099 0.86097561]\n",
      " [0.         0.2646086  0.13922652 ... 0.65829146 0.6617284  0.63658537]\n",
      " ...\n",
      " [0.         0.58103638 0.30939227 ... 0.92462312 0.92098765 0.91707317]\n",
      " [0.         0.13781698 0.74475138 ... 0.65829146 0.6617284  0.63658537]\n",
      " [0.         0.292172   0.75248619 ... 0.65829146 0.6617284  0.63658537]]\n"
     ]
    }
   ],
   "source": [
    "# creating normalization object \n",
    "norm = MinMaxScaler()\n",
    "# fit data\n",
    "norm_fit = norm.fit(x1_train)\n",
    "new_xtrain = norm_fit.transform(x1_train)\n",
    "new_xtest = norm_fit.transform(x1_test)\n",
    "# display values\n",
    "print(new_xtrain)"
   ]
  },
  {
   "cell_type": "markdown",
   "metadata": {},
   "source": [
    "# Linear Regression Model¶\n"
   ]
  },
  {
   "cell_type": "code",
   "execution_count": 158,
   "metadata": {},
   "outputs": [
    {
     "data": {
      "text/plain": [
       "LinearRegression()"
      ]
     },
     "execution_count": 158,
     "metadata": {},
     "output_type": "execute_result"
    }
   ],
   "source": [
    "lr1.fit(x1_train,y1_train)\n"
   ]
  },
  {
   "cell_type": "code",
   "execution_count": 160,
   "metadata": {},
   "outputs": [
    {
     "data": {
      "text/plain": [
       "0.5465482753338844"
      ]
     },
     "execution_count": 160,
     "metadata": {},
     "output_type": "execute_result"
    }
   ],
   "source": [
    "lr1.score(x1_train,y1_train)\n"
   ]
  },
  {
   "cell_type": "code",
   "execution_count": 161,
   "metadata": {},
   "outputs": [],
   "source": [
    "pred_test=lr1.predict(x1_test)\n"
   ]
  },
  {
   "cell_type": "code",
   "execution_count": 162,
   "metadata": {},
   "outputs": [
    {
     "name": "stdout",
     "output_type": "stream",
     "text": [
      "0.5057232836635126\n"
     ]
    }
   ],
   "source": [
    "print(r2_score(y1_test,pred_test))\n"
   ]
  },
  {
   "cell_type": "code",
   "execution_count": 147,
   "metadata": {},
   "outputs": [],
   "source": [
    "from sklearn.model_selection import cross_val_score\n",
    "cvscoreslr= cross_val_score(lr1,x1_train,y1_train, scoring = 'r2', cv =2)"
   ]
  },
  {
   "cell_type": "code",
   "execution_count": 148,
   "metadata": {},
   "outputs": [
    {
     "data": {
      "text/plain": [
       "array([0.53675243, 0.50783436])"
      ]
     },
     "execution_count": 148,
     "metadata": {},
     "output_type": "execute_result"
    }
   ],
   "source": [
    "cvscoreslr\n"
   ]
  },
  {
   "cell_type": "markdown",
   "metadata": {},
   "source": [
    "# Lasso Regression model¶\n"
   ]
  },
  {
   "cell_type": "code",
   "execution_count": 150,
   "metadata": {},
   "outputs": [],
   "source": [
    "from sklearn.model_selection import GridSearchCV\n",
    "from sklearn.model_selection import cross_val_score"
   ]
  },
  {
   "cell_type": "code",
   "execution_count": 152,
   "metadata": {},
   "outputs": [
    {
     "name": "stdout",
     "output_type": "stream",
     "text": [
      "{'alpha': 1, 'random_state': 0}\n"
     ]
    }
   ],
   "source": [
    "from sklearn.linear_model import Lasso\n",
    "\n",
    "parameters = {'alpha':[.0001, .001, .01, .1, 1, 10],'random_state':list(range(0,10))}\n",
    "ls1 = Lasso()\n",
    "clf = GridSearchCV(ls1,parameters)\n",
    "clf.fit(x1_train,y1_train)\n",
    "\n",
    "print(clf.best_params_)"
   ]
  },
  {
   "cell_type": "code",
   "execution_count": 163,
   "metadata": {},
   "outputs": [
    {
     "data": {
      "text/plain": [
       "0.54651033742447"
      ]
     },
     "execution_count": 163,
     "metadata": {},
     "output_type": "execute_result"
    }
   ],
   "source": [
    "ls1 = Lasso(alpha=1)\n",
    "ls1.fit(x1_train,y1_train)\n",
    "ls1.score(x1_train,y1_train)"
   ]
  },
  {
   "cell_type": "code",
   "execution_count": 164,
   "metadata": {},
   "outputs": [
    {
     "data": {
      "text/plain": [
       "0.5144939447094308"
      ]
     },
     "execution_count": 164,
     "metadata": {},
     "output_type": "execute_result"
    }
   ],
   "source": [
    "\n",
    "cv_score=cross_val_score(ls1,x1,y1,cv=5)\n",
    "cv_mean=cv_score.mean()\n",
    "cv_mean"
   ]
  },
  {
   "cell_type": "code",
   "execution_count": 165,
   "metadata": {},
   "outputs": [],
   "source": [
    "pred_testls=ls1.predict(x1_test)\n"
   ]
  },
  {
   "cell_type": "code",
   "execution_count": 166,
   "metadata": {},
   "outputs": [
    {
     "name": "stdout",
     "output_type": "stream",
     "text": [
      "0.5063931291384987\n"
     ]
    }
   ],
   "source": [
    "print(r2_score(y1_test,pred_testls))\n"
   ]
  },
  {
   "cell_type": "markdown",
   "metadata": {},
   "source": [
    "# Random Forest Regressor Model¶\n"
   ]
  },
  {
   "cell_type": "code",
   "execution_count": 169,
   "metadata": {},
   "outputs": [
    {
     "name": "stdout",
     "output_type": "stream",
     "text": [
      "{'criterion': 'mse', 'max_features': 'log2'}\n"
     ]
    }
   ],
   "source": [
    "parameters = {'criterion':['mse'],'max_features':[\"auto\", \"sqrt\", \"log2\"]}\n",
    "rf =RandomForestRegressor()\n",
    "clf = GridSearchCV(rf,parameters)\n",
    "clf.fit(x1_train,y1_train)\n",
    "\n",
    "print(clf.best_params_)"
   ]
  },
  {
   "cell_type": "code",
   "execution_count": 170,
   "metadata": {},
   "outputs": [
    {
     "name": "stdout",
     "output_type": "stream",
     "text": [
      "R2 Score: 78.50033116092796\n",
      "Cross Val Score: 83.20337495487055\n"
     ]
    }
   ],
   "source": [
    "rf= RandomForestRegressor(criterion=\"mse\", max_features =\"log2\")\n",
    "rf.fit(x1_train, y1_train)\n",
    "rf.score(x1_train, y1_train)\n",
    "pred_decision = rf.predict(x1_test)\n",
    "\n",
    "rfs = r2_score(y1_test,pred_decision)\n",
    "print('R2 Score:',rfs*100)\n",
    "\n",
    "rfscore = cross_val_score(rf,x1,y1,cv=5)\n",
    "rfc = rfscore.mean()\n",
    "print('Cross Val Score:',rfc*100)"
   ]
  },
  {
   "cell_type": "code",
   "execution_count": 171,
   "metadata": {},
   "outputs": [
    {
     "data": {
      "text/plain": [
       "0.9807776221909911"
      ]
     },
     "execution_count": 171,
     "metadata": {},
     "output_type": "execute_result"
    }
   ],
   "source": [
    "rf.score(x1_train,y1_train)"
   ]
  },
  {
   "cell_type": "code",
   "execution_count": 172,
   "metadata": {},
   "outputs": [],
   "source": [
    "train, validation = train_test_split(df, test_size=0.50, random_state = 5)"
   ]
  },
  {
   "cell_type": "markdown",
   "metadata": {},
   "source": [
    "Difference between R2 score and CV score\n",
    "\n",
    "Linear Regression = 50.57- 54.65 = 4.08\n",
    "\n",
    "Lasso regression = 50.63-51.44= -0.41\n",
    "\n",
    "RandomForestRegressor = 78.5-83.2 =-4.7\n",
    "\n"
   ]
  },
  {
   "cell_type": "markdown",
   "metadata": {},
   "source": [
    "# Lasso regression has the least difference hence we can consider that model "
   ]
  },
  {
   "cell_type": "code",
   "execution_count": 177,
   "metadata": {},
   "outputs": [],
   "source": [
    "import pickle\n",
    "filename = 'globalcapacity.pkl'\n",
    "pickle.dump(rf, open(filename, 'wb'))"
   ]
  },
  {
   "cell_type": "code",
   "execution_count": 178,
   "metadata": {},
   "outputs": [
    {
     "name": "stdout",
     "output_type": "stream",
     "text": [
      "0.7850033116092795\n"
     ]
    }
   ],
   "source": [
    "loaded_model = pickle.load(open('globalcapacity.pkl', 'rb'))\n",
    "result = loaded_model.score(x1_test, y1_test)\n",
    "print(result)\n"
   ]
  },
  {
   "cell_type": "code",
   "execution_count": 179,
   "metadata": {},
   "outputs": [],
   "source": [
    "conclusion=pd.DataFrame([loaded_model.predict(x1_test)[:],pred_decision[:]],index=[\"Predicted\",\"Orginal\"])\n"
   ]
  },
  {
   "cell_type": "code",
   "execution_count": 180,
   "metadata": {},
   "outputs": [
    {
     "data": {
      "text/html": [
       "<div>\n",
       "<style scoped>\n",
       "    .dataframe tbody tr th:only-of-type {\n",
       "        vertical-align: middle;\n",
       "    }\n",
       "\n",
       "    .dataframe tbody tr th {\n",
       "        vertical-align: top;\n",
       "    }\n",
       "\n",
       "    .dataframe thead th {\n",
       "        text-align: right;\n",
       "    }\n",
       "</style>\n",
       "<table border=\"1\" class=\"dataframe\">\n",
       "  <thead>\n",
       "    <tr style=\"text-align: right;\">\n",
       "      <th></th>\n",
       "      <th>0</th>\n",
       "      <th>1</th>\n",
       "      <th>2</th>\n",
       "      <th>3</th>\n",
       "      <th>4</th>\n",
       "      <th>5</th>\n",
       "      <th>6</th>\n",
       "      <th>7</th>\n",
       "      <th>8</th>\n",
       "      <th>9</th>\n",
       "      <th>...</th>\n",
       "      <th>172</th>\n",
       "      <th>173</th>\n",
       "      <th>174</th>\n",
       "      <th>175</th>\n",
       "      <th>176</th>\n",
       "      <th>177</th>\n",
       "      <th>178</th>\n",
       "      <th>179</th>\n",
       "      <th>180</th>\n",
       "      <th>181</th>\n",
       "    </tr>\n",
       "  </thead>\n",
       "  <tbody>\n",
       "    <tr>\n",
       "      <th>Predicted</th>\n",
       "      <td>103.32</td>\n",
       "      <td>121.67</td>\n",
       "      <td>120.03</td>\n",
       "      <td>354.2</td>\n",
       "      <td>52.0</td>\n",
       "      <td>115.72</td>\n",
       "      <td>75.32</td>\n",
       "      <td>124.33</td>\n",
       "      <td>90.18</td>\n",
       "      <td>46.16</td>\n",
       "      <td>...</td>\n",
       "      <td>126.4</td>\n",
       "      <td>313.07</td>\n",
       "      <td>262.81</td>\n",
       "      <td>101.69</td>\n",
       "      <td>134.83</td>\n",
       "      <td>22.2</td>\n",
       "      <td>49.2</td>\n",
       "      <td>150.13</td>\n",
       "      <td>16.83</td>\n",
       "      <td>32.68</td>\n",
       "    </tr>\n",
       "    <tr>\n",
       "      <th>Orginal</th>\n",
       "      <td>103.32</td>\n",
       "      <td>121.67</td>\n",
       "      <td>120.03</td>\n",
       "      <td>354.2</td>\n",
       "      <td>52.0</td>\n",
       "      <td>115.72</td>\n",
       "      <td>75.32</td>\n",
       "      <td>124.33</td>\n",
       "      <td>90.18</td>\n",
       "      <td>46.16</td>\n",
       "      <td>...</td>\n",
       "      <td>126.4</td>\n",
       "      <td>313.07</td>\n",
       "      <td>262.81</td>\n",
       "      <td>101.69</td>\n",
       "      <td>134.83</td>\n",
       "      <td>22.2</td>\n",
       "      <td>49.2</td>\n",
       "      <td>150.13</td>\n",
       "      <td>16.83</td>\n",
       "      <td>32.68</td>\n",
       "    </tr>\n",
       "  </tbody>\n",
       "</table>\n",
       "<p>2 rows × 182 columns</p>\n",
       "</div>"
      ],
      "text/plain": [
       "              0       1       2      3     4       5      6       7      8    \\\n",
       "Predicted  103.32  121.67  120.03  354.2  52.0  115.72  75.32  124.33  90.18   \n",
       "Orginal    103.32  121.67  120.03  354.2  52.0  115.72  75.32  124.33  90.18   \n",
       "\n",
       "             9    ...    172     173     174     175     176   177   178  \\\n",
       "Predicted  46.16  ...  126.4  313.07  262.81  101.69  134.83  22.2  49.2   \n",
       "Orginal    46.16  ...  126.4  313.07  262.81  101.69  134.83  22.2  49.2   \n",
       "\n",
       "              179    180    181  \n",
       "Predicted  150.13  16.83  32.68  \n",
       "Orginal    150.13  16.83  32.68  \n",
       "\n",
       "[2 rows x 182 columns]"
      ]
     },
     "execution_count": 180,
     "metadata": {},
     "output_type": "execute_result"
    }
   ],
   "source": [
    "conclusion\n"
   ]
  },
  {
   "cell_type": "markdown",
   "metadata": {},
   "source": [
    "Predicted = original "
   ]
  },
  {
   "cell_type": "code",
   "execution_count": null,
   "metadata": {},
   "outputs": [],
   "source": []
  }
 ],
 "metadata": {
  "kernelspec": {
   "display_name": "Python 3",
   "language": "python",
   "name": "python3"
  },
  "language_info": {
   "codemirror_mode": {
    "name": "ipython",
    "version": 3
   },
   "file_extension": ".py",
   "mimetype": "text/x-python",
   "name": "python",
   "nbconvert_exporter": "python",
   "pygments_lexer": "ipython3",
   "version": "3.8.5"
  }
 },
 "nbformat": 4,
 "nbformat_minor": 4
}
